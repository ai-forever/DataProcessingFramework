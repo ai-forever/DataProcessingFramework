{
 "cells": [
  {
   "cell_type": "code",
   "execution_count": 2,
   "id": "d9f29b8d",
   "metadata": {},
   "outputs": [],
   "source": [
    "import sys\n",
    "sys.path.append('../')"
   ]
  },
  {
   "cell_type": "code",
   "execution_count": 3,
   "id": "b3f92593",
   "metadata": {},
   "outputs": [
    {
     "data": {
      "application/vnd.jupyter.widget-view+json": {
       "model_id": "026569d381694adfb3431db27995e19c",
       "version_major": 2,
       "version_minor": 0
      },
      "text/plain": [
       "  0%|          | 0/3 [00:00<?, ?it/s]"
      ]
     },
     "metadata": {},
     "output_type": "display_data"
    }
   ],
   "source": [
    "from DPF import ShardsDatasetConfig, DatasetReader\n",
    "\n",
    "config = ShardsDatasetConfig.from_path_and_columns(\n",
    "    'example_dataset',\n",
    "    image_name_col='image_name',\n",
    "    text_col=\"caption\"\n",
    ")\n",
    "\n",
    "reader = DatasetReader()\n",
    "processor = reader.read_from_config(config)"
   ]
  },
  {
   "cell_type": "markdown",
   "id": "fd80425d",
   "metadata": {},
   "source": [
    "## Print metadata"
   ]
  },
  {
   "cell_type": "code",
   "execution_count": 4,
   "id": "d36a4efd",
   "metadata": {},
   "outputs": [
    {
     "name": "stdout",
     "output_type": "stream",
     "text": [
      "Dataset format: shards\n",
      "Path: example_dataset\n",
      "Modalities: ['image', 'text']\n",
      "Columns: 3\n",
      "Total samples: 500\n"
     ]
    }
   ],
   "source": [
    "processor.print_summary()"
   ]
  },
  {
   "cell_type": "code",
   "execution_count": 5,
   "id": "eef9d1b9",
   "metadata": {},
   "outputs": [
    {
     "data": {
      "text/html": [
       "<div>\n",
       "<style scoped>\n",
       "    .dataframe tbody tr th:only-of-type {\n",
       "        vertical-align: middle;\n",
       "    }\n",
       "\n",
       "    .dataframe tbody tr th {\n",
       "        vertical-align: top;\n",
       "    }\n",
       "\n",
       "    .dataframe thead th {\n",
       "        text-align: right;\n",
       "    }\n",
       "</style>\n",
       "<table border=\"1\" class=\"dataframe\">\n",
       "  <thead>\n",
       "    <tr style=\"text-align: right;\">\n",
       "      <th></th>\n",
       "      <th>image_path</th>\n",
       "      <th>text</th>\n",
       "      <th>split_name</th>\n",
       "    </tr>\n",
       "  </thead>\n",
       "  <tbody>\n",
       "    <tr>\n",
       "      <th>0</th>\n",
       "      <td>example_dataset/0.tar/0.jpg</td>\n",
       "      <td>шотландцы в национальной одежде с флагом. - ba...</td>\n",
       "      <td>0</td>\n",
       "    </tr>\n",
       "    <tr>\n",
       "      <th>1</th>\n",
       "      <td>example_dataset/0.tar/1.jpg</td>\n",
       "      <td>королевская золотая корона с драгоценностями н...</td>\n",
       "      <td>0</td>\n",
       "    </tr>\n",
       "    <tr>\n",
       "      <th>2</th>\n",
       "      <td>example_dataset/0.tar/2.jpg</td>\n",
       "      <td>Пасха</td>\n",
       "      <td>0</td>\n",
       "    </tr>\n",
       "    <tr>\n",
       "      <th>3</th>\n",
       "      <td>example_dataset/0.tar/3.jpg</td>\n",
       "      <td>округа нью-джерси карта печати - elizabeth sto...</td>\n",
       "      <td>0</td>\n",
       "    </tr>\n",
       "    <tr>\n",
       "      <th>4</th>\n",
       "      <td>example_dataset/0.tar/4.jpg</td>\n",
       "      <td>английская золотая корона с драгоценностями, и...</td>\n",
       "      <td>0</td>\n",
       "    </tr>\n",
       "    <tr>\n",
       "      <th>...</th>\n",
       "      <td>...</td>\n",
       "      <td>...</td>\n",
       "      <td>...</td>\n",
       "    </tr>\n",
       "    <tr>\n",
       "      <th>495</th>\n",
       "      <td>example_dataset/2.tar/495.jpg</td>\n",
       "      <td>bokeh Background</td>\n",
       "      <td>2</td>\n",
       "    </tr>\n",
       "    <tr>\n",
       "      <th>496</th>\n",
       "      <td>example_dataset/2.tar/496.jpg</td>\n",
       "      <td>Healthcare, Medicine,</td>\n",
       "      <td>2</td>\n",
       "    </tr>\n",
       "    <tr>\n",
       "      <th>497</th>\n",
       "      <td>example_dataset/2.tar/497.jpg</td>\n",
       "      <td>A set of business teams icons that include edi...</td>\n",
       "      <td>2</td>\n",
       "    </tr>\n",
       "    <tr>\n",
       "      <th>498</th>\n",
       "      <td>example_dataset/2.tar/498.jpg</td>\n",
       "      <td>Vector floral pattern icon collection</td>\n",
       "      <td>2</td>\n",
       "    </tr>\n",
       "    <tr>\n",
       "      <th>499</th>\n",
       "      <td>example_dataset/2.tar/499.jpg</td>\n",
       "      <td>Set of Brown ribbons, banners, badges and labe...</td>\n",
       "      <td>2</td>\n",
       "    </tr>\n",
       "  </tbody>\n",
       "</table>\n",
       "<p>500 rows × 3 columns</p>\n",
       "</div>"
      ],
      "text/plain": [
       "                        image_path  \\\n",
       "0      example_dataset/0.tar/0.jpg   \n",
       "1      example_dataset/0.tar/1.jpg   \n",
       "2      example_dataset/0.tar/2.jpg   \n",
       "3      example_dataset/0.tar/3.jpg   \n",
       "4      example_dataset/0.tar/4.jpg   \n",
       "..                             ...   \n",
       "495  example_dataset/2.tar/495.jpg   \n",
       "496  example_dataset/2.tar/496.jpg   \n",
       "497  example_dataset/2.tar/497.jpg   \n",
       "498  example_dataset/2.tar/498.jpg   \n",
       "499  example_dataset/2.tar/499.jpg   \n",
       "\n",
       "                                                  text split_name  \n",
       "0    шотландцы в национальной одежде с флагом. - ba...          0  \n",
       "1    королевская золотая корона с драгоценностями н...          0  \n",
       "2                                                Пасха          0  \n",
       "3    округа нью-джерси карта печати - elizabeth sto...          0  \n",
       "4    английская золотая корона с драгоценностями, и...          0  \n",
       "..                                                 ...        ...  \n",
       "495                                   bokeh Background          2  \n",
       "496                              Healthcare, Medicine,          2  \n",
       "497  A set of business teams icons that include edi...          2  \n",
       "498              Vector floral pattern icon collection          2  \n",
       "499  Set of Brown ribbons, banners, badges and labe...          2  \n",
       "\n",
       "[500 rows x 3 columns]"
      ]
     },
     "execution_count": 5,
     "metadata": {},
     "output_type": "execute_result"
    }
   ],
   "source": [
    "processor.df"
   ]
  },
  {
   "cell_type": "markdown",
   "id": "f060ae57",
   "metadata": {},
   "source": [
    "## Removing duplicates"
   ]
  },
  {
   "cell_type": "code",
   "execution_count": 6,
   "id": "71bd3108",
   "metadata": {},
   "outputs": [
    {
     "name": "stdout",
     "output_type": "stream",
     "text": [
      "['image_phash_8']\n"
     ]
    },
    {
     "name": "stderr",
     "output_type": "stream",
     "text": [
      "100%|██████████| 500/500 [00:01<00:00, 387.02it/s]\n"
     ]
    }
   ],
   "source": [
    "from DPF.filters.images.hash_filters import PHashFilter\n",
    "\n",
    "datafilter = PHashFilter(sim_hash_size=8, workers=16)\n",
    "print(datafilter.result_columns)\n",
    "processor.apply_data_filter(datafilter)"
   ]
  },
  {
   "cell_type": "code",
   "execution_count": 7,
   "id": "a83b48fc",
   "metadata": {},
   "outputs": [
    {
     "data": {
      "text/plain": [
       "499"
      ]
     },
     "execution_count": 7,
     "metadata": {},
     "output_type": "execute_result"
    }
   ],
   "source": [
    "processor.filter_df(~processor.df['image_phash_8'].duplicated())\n",
    "len(processor)"
   ]
  },
  {
   "cell_type": "markdown",
   "id": "6749b74f",
   "metadata": {},
   "source": [
    "## Filter by aesthetic score"
   ]
  },
  {
   "cell_type": "code",
   "execution_count": 8,
   "id": "33750661",
   "metadata": {},
   "outputs": [
    {
     "name": "stdout",
     "output_type": "stream",
     "text": [
      "['improved_aesthetic_score_ViT-L/14']\n"
     ]
    },
    {
     "name": "stderr",
     "output_type": "stream",
     "text": [
      "10it [00:05,  1.99it/s]                      \n"
     ]
    }
   ],
   "source": [
    "from DPF.filters.images.aesthetic_improved_filter import ImprovedAestheticFilter\n",
    "\n",
    "datafilter = ImprovedAestheticFilter(\n",
    "    weights_folder='../weights',  # path to weights folder, will be downloaded to this folder\n",
    "    device='cuda:0',\n",
    "    workers=16\n",
    ")\n",
    "print(datafilter.result_columns)\n",
    "processor.apply_data_filter(datafilter)"
   ]
  },
  {
   "cell_type": "code",
   "execution_count": 9,
   "id": "052c03e5",
   "metadata": {},
   "outputs": [
    {
     "data": {
      "text/html": [
       "<div>\n",
       "<style scoped>\n",
       "    .dataframe tbody tr th:only-of-type {\n",
       "        vertical-align: middle;\n",
       "    }\n",
       "\n",
       "    .dataframe tbody tr th {\n",
       "        vertical-align: top;\n",
       "    }\n",
       "\n",
       "    .dataframe thead th {\n",
       "        text-align: right;\n",
       "    }\n",
       "</style>\n",
       "<table border=\"1\" class=\"dataframe\">\n",
       "  <thead>\n",
       "    <tr style=\"text-align: right;\">\n",
       "      <th></th>\n",
       "      <th>image_path</th>\n",
       "      <th>text</th>\n",
       "      <th>split_name</th>\n",
       "      <th>image_phash_8</th>\n",
       "      <th>improved_aesthetic_score_ViT-L/14</th>\n",
       "    </tr>\n",
       "  </thead>\n",
       "  <tbody>\n",
       "    <tr>\n",
       "      <th>0</th>\n",
       "      <td>example_dataset/0.tar/0.jpg</td>\n",
       "      <td>шотландцы в национальной одежде с флагом. - ba...</td>\n",
       "      <td>0</td>\n",
       "      <td>e1f6e7c0e07f0e3d381f8fc07e09c7f0103fe07038ec7918</td>\n",
       "      <td>5.601146</td>\n",
       "    </tr>\n",
       "    <tr>\n",
       "      <th>1</th>\n",
       "      <td>example_dataset/0.tar/1.jpg</td>\n",
       "      <td>королевская золотая корона с драгоценностями н...</td>\n",
       "      <td>0</td>\n",
       "      <td>fc3100ffcd0b6301c8ef9f1c0399d8030ebfe38e047db03f</td>\n",
       "      <td>4.966230</td>\n",
       "    </tr>\n",
       "    <tr>\n",
       "      <th>2</th>\n",
       "      <td>example_dataset/0.tar/2.jpg</td>\n",
       "      <td>Пасха</td>\n",
       "      <td>0</td>\n",
       "      <td>effe38e3be07747080a1d9d8fe2fe80081f8ff8c2701f018</td>\n",
       "      <td>5.068741</td>\n",
       "    </tr>\n",
       "    <tr>\n",
       "      <th>3</th>\n",
       "      <td>example_dataset/0.tar/3.jpg</td>\n",
       "      <td>округа нью-джерси карта печати - elizabeth sto...</td>\n",
       "      <td>0</td>\n",
       "      <td>ec4007e06e0113b7f8f007e603f63f1381d81f8fff027e33</td>\n",
       "      <td>4.848436</td>\n",
       "    </tr>\n",
       "    <tr>\n",
       "      <th>4</th>\n",
       "      <td>example_dataset/0.tar/4.jpg</td>\n",
       "      <td>английская золотая корона с драгоценностями, и...</td>\n",
       "      <td>0</td>\n",
       "      <td>e3f1c6ec703ffc01b81b9fc0216e0703efc2fc01b1fa81f0</td>\n",
       "      <td>5.539761</td>\n",
       "    </tr>\n",
       "    <tr>\n",
       "      <th>...</th>\n",
       "      <td>...</td>\n",
       "      <td>...</td>\n",
       "      <td>...</td>\n",
       "      <td>...</td>\n",
       "      <td>...</td>\n",
       "    </tr>\n",
       "    <tr>\n",
       "      <th>494</th>\n",
       "      <td>example_dataset/2.tar/495.jpg</td>\n",
       "      <td>bokeh Background</td>\n",
       "      <td>2</td>\n",
       "      <td>e431028fcd3581f1e6f073071df63df139c303b3d0f23417</td>\n",
       "      <td>5.285481</td>\n",
       "    </tr>\n",
       "    <tr>\n",
       "      <th>495</th>\n",
       "      <td>example_dataset/2.tar/496.jpg</td>\n",
       "      <td>Healthcare, Medicine,</td>\n",
       "      <td>2</td>\n",
       "      <td>fb8efe188cc61869c6187c6618f9c019ec4618fc771c8ff8</td>\n",
       "      <td>4.501980</td>\n",
       "    </tr>\n",
       "    <tr>\n",
       "      <th>496</th>\n",
       "      <td>example_dataset/2.tar/497.jpg</td>\n",
       "      <td>A set of business teams icons that include edi...</td>\n",
       "      <td>2</td>\n",
       "      <td>fc70381c70381c71f81c71f81c70385fbe07e38fc7e38fc0</td>\n",
       "      <td>3.883074</td>\n",
       "    </tr>\n",
       "    <tr>\n",
       "      <th>497</th>\n",
       "      <td>example_dataset/2.tar/498.jpg</td>\n",
       "      <td>Vector floral pattern icon collection</td>\n",
       "      <td>2</td>\n",
       "      <td>e80f7f080d3c0fc13e0c4770f03ec5f38281f7e1bbe0b1c7</td>\n",
       "      <td>5.069400</td>\n",
       "    </tr>\n",
       "    <tr>\n",
       "      <th>498</th>\n",
       "      <td>example_dataset/2.tar/499.jpg</td>\n",
       "      <td>Set of Brown ribbons, banners, badges and labe...</td>\n",
       "      <td>2</td>\n",
       "      <td>fbf03803f03ce001fc1b8fc103fe073c7e38fc01b8e381df</td>\n",
       "      <td>4.538239</td>\n",
       "    </tr>\n",
       "  </tbody>\n",
       "</table>\n",
       "<p>499 rows × 5 columns</p>\n",
       "</div>"
      ],
      "text/plain": [
       "                        image_path  \\\n",
       "0      example_dataset/0.tar/0.jpg   \n",
       "1      example_dataset/0.tar/1.jpg   \n",
       "2      example_dataset/0.tar/2.jpg   \n",
       "3      example_dataset/0.tar/3.jpg   \n",
       "4      example_dataset/0.tar/4.jpg   \n",
       "..                             ...   \n",
       "494  example_dataset/2.tar/495.jpg   \n",
       "495  example_dataset/2.tar/496.jpg   \n",
       "496  example_dataset/2.tar/497.jpg   \n",
       "497  example_dataset/2.tar/498.jpg   \n",
       "498  example_dataset/2.tar/499.jpg   \n",
       "\n",
       "                                                  text split_name  \\\n",
       "0    шотландцы в национальной одежде с флагом. - ba...          0   \n",
       "1    королевская золотая корона с драгоценностями н...          0   \n",
       "2                                                Пасха          0   \n",
       "3    округа нью-джерси карта печати - elizabeth sto...          0   \n",
       "4    английская золотая корона с драгоценностями, и...          0   \n",
       "..                                                 ...        ...   \n",
       "494                                   bokeh Background          2   \n",
       "495                              Healthcare, Medicine,          2   \n",
       "496  A set of business teams icons that include edi...          2   \n",
       "497              Vector floral pattern icon collection          2   \n",
       "498  Set of Brown ribbons, banners, badges and labe...          2   \n",
       "\n",
       "                                        image_phash_8  \\\n",
       "0    e1f6e7c0e07f0e3d381f8fc07e09c7f0103fe07038ec7918   \n",
       "1    fc3100ffcd0b6301c8ef9f1c0399d8030ebfe38e047db03f   \n",
       "2    effe38e3be07747080a1d9d8fe2fe80081f8ff8c2701f018   \n",
       "3    ec4007e06e0113b7f8f007e603f63f1381d81f8fff027e33   \n",
       "4    e3f1c6ec703ffc01b81b9fc0216e0703efc2fc01b1fa81f0   \n",
       "..                                                ...   \n",
       "494  e431028fcd3581f1e6f073071df63df139c303b3d0f23417   \n",
       "495  fb8efe188cc61869c6187c6618f9c019ec4618fc771c8ff8   \n",
       "496  fc70381c70381c71f81c71f81c70385fbe07e38fc7e38fc0   \n",
       "497  e80f7f080d3c0fc13e0c4770f03ec5f38281f7e1bbe0b1c7   \n",
       "498  fbf03803f03ce001fc1b8fc103fe073c7e38fc01b8e381df   \n",
       "\n",
       "     improved_aesthetic_score_ViT-L/14  \n",
       "0                             5.601146  \n",
       "1                             4.966230  \n",
       "2                             5.068741  \n",
       "3                             4.848436  \n",
       "4                             5.539761  \n",
       "..                                 ...  \n",
       "494                           5.285481  \n",
       "495                           4.501980  \n",
       "496                           3.883074  \n",
       "497                           5.069400  \n",
       "498                           4.538239  \n",
       "\n",
       "[499 rows x 5 columns]"
      ]
     },
     "execution_count": 9,
     "metadata": {},
     "output_type": "execute_result"
    }
   ],
   "source": [
    "processor.df"
   ]
  },
  {
   "cell_type": "code",
   "execution_count": 12,
   "id": "5a08f721",
   "metadata": {},
   "outputs": [
    {
     "data": {
      "text/plain": [
       "207"
      ]
     },
     "execution_count": 12,
     "metadata": {},
     "output_type": "execute_result"
    }
   ],
   "source": [
    "processor.filter_df(processor.df['improved_aesthetic_score_ViT-L/14']>5.2)\n",
    "len(processor)"
   ]
  },
  {
   "cell_type": "markdown",
   "id": "1002a863",
   "metadata": {},
   "source": [
    "## Check samples from filtered dataset"
   ]
  },
  {
   "cell_type": "code",
   "execution_count": 37,
   "id": "9f55de06",
   "metadata": {},
   "outputs": [
    {
     "name": "stdout",
     "output_type": "stream",
     "text": [
      "Gift boxes coming out of a yellow megaphone over yellow background. Horizontal composition with copy space. Great use for announcement concepts.\n"
     ]
    },
    {
     "data": {
      "image/jpeg": "[encoded data removed]",
      "image/png": "[encoded data removed]",
      "text/plain": [
       "<PIL.JpegImagePlugin.JpegImageFile image mode=RGB size=612x374>"
      ]
     },
     "execution_count": 37,
     "metadata": {},
     "output_type": "execute_result"
    }
   ],
   "source": [
    "from PIL import Image\n",
    "from io import BytesIO\n",
    "\n",
    "m2d, metadata = processor.get_random_sample()\n",
    "print(metadata['text'])\n",
    "Image.open(BytesIO(m2d['image']))"
   ]
  },
  {
   "cell_type": "markdown",
   "id": "8f882c6b",
   "metadata": {},
   "source": [
    "## Sharding new dataset"
   ]
  },
  {
   "cell_type": "code",
   "execution_count": 38,
   "id": "1a5f9a3f",
   "metadata": {},
   "outputs": [
    {
     "name": "stderr",
     "output_type": "stream",
     "text": [
      "100%|██████████| 207/207 [00:01<00:00, 205.79it/s]\n"
     ]
    }
   ],
   "source": [
    "processor.save_to_shards(\n",
    "    'aesthetic_dataset_shards/',\n",
    "    columns_to_save=['text', 'image_phash_8', 'improved_aesthetic_score_ViT-L/14'],\n",
    "    rename_columns={'text': 'caption'},\n",
    "    workers=16\n",
    ")"
   ]
  },
  {
   "cell_type": "markdown",
   "id": "75bfcb23",
   "metadata": {},
   "source": [
    "## Reading new dataset"
   ]
  },
  {
   "cell_type": "code",
   "execution_count": 39,
   "id": "d83c6078",
   "metadata": {},
   "outputs": [
    {
     "data": {
      "application/vnd.jupyter.widget-view+json": {
       "model_id": "1a73c98333564653ba982726534a7001",
       "version_major": 2,
       "version_minor": 0
      },
      "text/plain": [
       "  0%|          | 0/1 [00:00<?, ?it/s]"
      ]
     },
     "metadata": {},
     "output_type": "display_data"
    }
   ],
   "source": [
    "from DPF import ShardsDatasetConfig, DatasetReader\n",
    "\n",
    "config = ShardsDatasetConfig.from_path_and_columns(\n",
    "    'aesthetic_dataset_shards',\n",
    "    image_name_col='image_name',\n",
    "    text_col=\"caption\"\n",
    ")\n",
    "\n",
    "reader = DatasetReader()\n",
    "processor = reader.read_from_config(config)"
   ]
  },
  {
   "cell_type": "code",
   "execution_count": 40,
   "id": "bd5ef719",
   "metadata": {},
   "outputs": [
    {
     "data": {
      "text/html": [
       "<div>\n",
       "<style scoped>\n",
       "    .dataframe tbody tr th:only-of-type {\n",
       "        vertical-align: middle;\n",
       "    }\n",
       "\n",
       "    .dataframe tbody tr th {\n",
       "        vertical-align: top;\n",
       "    }\n",
       "\n",
       "    .dataframe thead th {\n",
       "        text-align: right;\n",
       "    }\n",
       "</style>\n",
       "<table border=\"1\" class=\"dataframe\">\n",
       "  <thead>\n",
       "    <tr style=\"text-align: right;\">\n",
       "      <th></th>\n",
       "      <th>image_path</th>\n",
       "      <th>text</th>\n",
       "      <th>split_name</th>\n",
       "      <th>improved_aesthetic_score_ViT-L/14</th>\n",
       "      <th>image_phash_8</th>\n",
       "    </tr>\n",
       "  </thead>\n",
       "  <tbody>\n",
       "    <tr>\n",
       "      <th>0</th>\n",
       "      <td>aesthetic_dataset_shards/0.tar/0.jpg</td>\n",
       "      <td>шотландцы в национальной одежде с флагом. - ba...</td>\n",
       "      <td>0</td>\n",
       "      <td>5.601146</td>\n",
       "      <td>e1f6e7c0e07f0e3d381f8fc07e09c7f0103fe07038ec7918</td>\n",
       "    </tr>\n",
       "    <tr>\n",
       "      <th>1</th>\n",
       "      <td>aesthetic_dataset_shards/0.tar/1.jpg</td>\n",
       "      <td>фотореальный красный чемодан с городским фоном...</td>\n",
       "      <td>0</td>\n",
       "      <td>5.422980</td>\n",
       "      <td>ff8fc7e0713802703f0dcee7f031180bc7c76078189f84e7</td>\n",
       "    </tr>\n",
       "    <tr>\n",
       "      <th>2</th>\n",
       "      <td>aesthetic_dataset_shards/0.tar/2.jpg</td>\n",
       "      <td>Top view paper bag of different fresh health f...</td>\n",
       "      <td>0</td>\n",
       "      <td>5.558455</td>\n",
       "      <td>e3f0007ff600ec783ffc0fc0fc0bf9fc0dc87f8046807c07</td>\n",
       "    </tr>\n",
       "    <tr>\n",
       "      <th>3</th>\n",
       "      <td>aesthetic_dataset_shards/0.tar/3.jpg</td>\n",
       "      <td>английская золотая корона с драгоценностями, и...</td>\n",
       "      <td>0</td>\n",
       "      <td>5.539761</td>\n",
       "      <td>e3f1c6ec703ffc01b81b9fc0216e0703efc2fc01b1fa81f0</td>\n",
       "    </tr>\n",
       "    <tr>\n",
       "      <th>4</th>\n",
       "      <td>aesthetic_dataset_shards/0.tar/4.jpg</td>\n",
       "      <td>Помолвка</td>\n",
       "      <td>0</td>\n",
       "      <td>5.234586</td>\n",
       "      <td>e00ec7077e381f803f63f1ff1f78381c033ce3ffc2e07004</td>\n",
       "    </tr>\n",
       "    <tr>\n",
       "      <th>...</th>\n",
       "      <td>...</td>\n",
       "      <td>...</td>\n",
       "      <td>...</td>\n",
       "      <td>...</td>\n",
       "      <td>...</td>\n",
       "    </tr>\n",
       "    <tr>\n",
       "      <th>202</th>\n",
       "      <td>aesthetic_dataset_shards/0.tar/202.jpg</td>\n",
       "      <td>программисты, сотрудничающие в ит-компании, ра...</td>\n",
       "      <td>0</td>\n",
       "      <td>5.353548</td>\n",
       "      <td>e1f1fbe389ff0201df007fc01c0f00f3b800fc7e3f01ce67</td>\n",
       "    </tr>\n",
       "    <tr>\n",
       "      <th>203</th>\n",
       "      <td>aesthetic_dataset_shards/0.tar/203.jpg</td>\n",
       "      <td>Our new house - Latin family</td>\n",
       "      <td>0</td>\n",
       "      <td>5.283234</td>\n",
       "      <td>e081c0e3f7ffe1783ff21ffcff82017e0380fc403c1c3038</td>\n",
       "    </tr>\n",
       "    <tr>\n",
       "      <th>204</th>\n",
       "      <td>aesthetic_dataset_shards/0.tar/204.jpg</td>\n",
       "      <td>An urban downtown skyscraper shot at the corne...</td>\n",
       "      <td>0</td>\n",
       "      <td>5.727420</td>\n",
       "      <td>ff8fdcfbf020bc383f020e3af1bfc71c0d406302301c6fc6</td>\n",
       "    </tr>\n",
       "    <tr>\n",
       "      <th>205</th>\n",
       "      <td>aesthetic_dataset_shards/0.tar/205.jpg</td>\n",
       "      <td>Vector illustration of the infographic elements</td>\n",
       "      <td>0</td>\n",
       "      <td>5.409890</td>\n",
       "      <td>f08ffae137f4d0745aff4008ffc04bf04d83f23da01cc08b</td>\n",
       "    </tr>\n",
       "    <tr>\n",
       "      <th>206</th>\n",
       "      <td>aesthetic_dataset_shards/0.tar/206.jpg</td>\n",
       "      <td>Aerial overhead view of a multi-ethnic group o...</td>\n",
       "      <td>0</td>\n",
       "      <td>5.466423</td>\n",
       "      <td>e3f180ff81383fff08646147600019f87e3ffc73b8e00e36</td>\n",
       "    </tr>\n",
       "  </tbody>\n",
       "</table>\n",
       "<p>207 rows × 5 columns</p>\n",
       "</div>"
      ],
      "text/plain": [
       "                                 image_path  \\\n",
       "0      aesthetic_dataset_shards/0.tar/0.jpg   \n",
       "1      aesthetic_dataset_shards/0.tar/1.jpg   \n",
       "2      aesthetic_dataset_shards/0.tar/2.jpg   \n",
       "3      aesthetic_dataset_shards/0.tar/3.jpg   \n",
       "4      aesthetic_dataset_shards/0.tar/4.jpg   \n",
       "..                                      ...   \n",
       "202  aesthetic_dataset_shards/0.tar/202.jpg   \n",
       "203  aesthetic_dataset_shards/0.tar/203.jpg   \n",
       "204  aesthetic_dataset_shards/0.tar/204.jpg   \n",
       "205  aesthetic_dataset_shards/0.tar/205.jpg   \n",
       "206  aesthetic_dataset_shards/0.tar/206.jpg   \n",
       "\n",
       "                                                  text split_name  \\\n",
       "0    шотландцы в национальной одежде с флагом. - ba...          0   \n",
       "1    фотореальный красный чемодан с городским фоном...          0   \n",
       "2    Top view paper bag of different fresh health f...          0   \n",
       "3    английская золотая корона с драгоценностями, и...          0   \n",
       "4                                             Помолвка          0   \n",
       "..                                                 ...        ...   \n",
       "202  программисты, сотрудничающие в ит-компании, ра...          0   \n",
       "203                       Our new house - Latin family          0   \n",
       "204  An urban downtown skyscraper shot at the corne...          0   \n",
       "205    Vector illustration of the infographic elements          0   \n",
       "206  Aerial overhead view of a multi-ethnic group o...          0   \n",
       "\n",
       "     improved_aesthetic_score_ViT-L/14  \\\n",
       "0                             5.601146   \n",
       "1                             5.422980   \n",
       "2                             5.558455   \n",
       "3                             5.539761   \n",
       "4                             5.234586   \n",
       "..                                 ...   \n",
       "202                           5.353548   \n",
       "203                           5.283234   \n",
       "204                           5.727420   \n",
       "205                           5.409890   \n",
       "206                           5.466423   \n",
       "\n",
       "                                        image_phash_8  \n",
       "0    e1f6e7c0e07f0e3d381f8fc07e09c7f0103fe07038ec7918  \n",
       "1    ff8fc7e0713802703f0dcee7f031180bc7c76078189f84e7  \n",
       "2    e3f0007ff600ec783ffc0fc0fc0bf9fc0dc87f8046807c07  \n",
       "3    e3f1c6ec703ffc01b81b9fc0216e0703efc2fc01b1fa81f0  \n",
       "4    e00ec7077e381f803f63f1ff1f78381c033ce3ffc2e07004  \n",
       "..                                                ...  \n",
       "202  e1f1fbe389ff0201df007fc01c0f00f3b800fc7e3f01ce67  \n",
       "203  e081c0e3f7ffe1783ff21ffcff82017e0380fc403c1c3038  \n",
       "204  ff8fdcfbf020bc383f020e3af1bfc71c0d406302301c6fc6  \n",
       "205  f08ffae137f4d0745aff4008ffc04bf04d83f23da01cc08b  \n",
       "206  e3f180ff81383fff08646147600019f87e3ffc73b8e00e36  \n",
       "\n",
       "[207 rows x 5 columns]"
      ]
     },
     "execution_count": 40,
     "metadata": {},
     "output_type": "execute_result"
    }
   ],
   "source": [
    "processor.df"
   ]
  },
  {
   "cell_type": "code",
   "execution_count": null,
   "id": "cd4559d8",
   "metadata": {},
   "outputs": [],
   "source": []
  }
 ],
 "metadata": {
  "kernelspec": {
   "display_name": "Python [conda env:.mlspace-dpf_llava]",
   "language": "python",
   "name": "conda-env-.mlspace-dpf_llava-py"
  },
  "language_info": {
   "codemirror_mode": {
    "name": "ipython",
    "version": 3
   },
   "file_extension": ".py",
   "mimetype": "text/x-python",
   "name": "python",
   "nbconvert_exporter": "python",
   "pygments_lexer": "ipython3",
   "version": "3.11.6"
  }
 },
 "nbformat": 4,
 "nbformat_minor": 5
}
