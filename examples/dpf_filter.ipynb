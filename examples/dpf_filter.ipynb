{
 "cells": [
  {
   "cell_type": "code",
   "execution_count": 1,
   "id": "8445727c-82fc-4f35-a344-10b0b62e48cc",
   "metadata": {},
   "outputs": [],
   "source": [
    "import sys\n",
    "sys.path.append('../')\n",
    "import pandas as pd\n",
    "import numpy as np\n",
    "import matplotlib.pyplot as plt\n",
    "\n",
    "from DPF.formatters.t2i_formatter import T2IFormatter"
   ]
  },
  {
   "cell_type": "code",
   "execution_count": 2,
   "id": "95351af6-5a1c-4436-b09e-722525b8b9ca",
   "metadata": {},
   "outputs": [
    {
     "data": {
      "application/vnd.jupyter.widget-view+json": {
       "model_id": "b2582607f2464992b932486e59a8ab88",
       "version_major": 2,
       "version_minor": 0
      },
      "text/plain": [
       "  0%|          | 0/1 [00:00<?, ?it/s]"
      ]
     },
     "metadata": {},
     "output_type": "display_data"
    }
   ],
   "source": [
    "formatter = T2IFormatter()\n",
    "shards_path = '../data/example_shards_format/'\n",
    "processor = formatter.from_shards(\n",
    "    shards_path, \n",
    "    imagename_column='image_name',\n",
    "    caption_column='caption',\n",
    "    progress_bar=True,\n",
    "    processes=8\n",
    ")"
   ]
  },
  {
   "cell_type": "markdown",
   "id": "8d15345e-7e4c-4f72-ad03-57a2fa542362",
   "metadata": {},
   "source": [
    "### Validator"
   ]
  },
  {
   "cell_type": "markdown",
   "id": "ed917ce5-5556-45ba-9955-69b5c59b2957",
   "metadata": {},
   "source": [
    "_ShardsValidator_ - checks for errors in shards"
   ]
  },
  {
   "cell_type": "code",
   "execution_count": 5,
   "id": "f39d548f-95a5-44a7-aa0e-a7926272192b",
   "metadata": {},
   "outputs": [
    {
     "data": {
      "application/vnd.jupyter.widget-view+json": {
       "model_id": "a38ee384c54f4521868928fb5c53af4b",
       "version_major": 2,
       "version_minor": 0
      },
      "text/plain": [
       "  0%|          | 0/1 [00:00<?, ?it/s]"
      ]
     },
     "metadata": {},
     "output_type": "display_data"
    }
   ],
   "source": [
    "from DPF.validators.text2image.shards_validator import ShardsValidator\n",
    "\n",
    "# fs = S3FileSystem(\n",
    "#     key='your_access_key',\n",
    "#     secret='your_secret_key',\n",
    "#     endpoint_url='your_endpoint'\n",
    "# )\n",
    "\n",
    "fs = processor.get_filesystem()\n",
    "\n",
    "validator = ShardsValidator(\n",
    "    filesystem=fs,\n",
    "    csv_columns=[\n",
    "        'image_name', 'caption', 'width', 'height'\n",
    "    ]\n",
    ")\n",
    "res, err2count, all_ok = validator.validate(shards_path, processes=16)\n"
   ]
  },
  {
   "cell_type": "markdown",
   "id": "b44b4419-8715-414c-8a4c-3f3c41a8de3c",
   "metadata": {},
   "source": [
    "all_ok must be true. Otherwise, look at the errors in the 'res' and correct them"
   ]
  },
  {
   "cell_type": "markdown",
   "id": "e6b0e647-aa9d-40d9-8cf7-8d8821f8f556",
   "metadata": {},
   "source": [
    "### CLIPFilter"
   ]
  },
  {
   "cell_type": "markdown",
   "id": "f1b3ddd8-a9b4-48f5-ba39-8152c9c328e2",
   "metadata": {},
   "source": [
    "CLIP similarity between image and caption"
   ]
  },
  {
   "cell_type": "code",
   "execution_count": 6,
   "id": "bf38469c-b974-4e3b-93e7-f98a65488487",
   "metadata": {},
   "outputs": [
    {
     "name": "stderr",
     "output_type": "stream",
     "text": [
      "100%|██████████| 3/3 [00:24<00:00,  8.04s/it]\n"
     ]
    }
   ],
   "source": [
    "from DPF.filters.text2image.clip_filter import CLIPFilter\n",
    "\n",
    "clip_filter = CLIPFilter(\n",
    "    clip_version='ViT-L/14', \n",
    "    templates=['{}'],\n",
    "    weights_folder='path_to_weights_folder',\n",
    "    workers=16, batch_size=64\n",
    ")\n",
    "\n",
    "processor.apply_filter(clip_filter)"
   ]
  },
  {
   "cell_type": "code",
   "execution_count": 7,
   "id": "ca353db4-e79b-4b86-b127-5aceac3860e1",
   "metadata": {},
   "outputs": [
    {
     "data": {
      "application/vnd.jupyter.widget-view+json": {
       "model_id": "135e5eed33324f1482d1375cd48666af",
       "version_major": 2,
       "version_minor": 0
      },
      "text/plain": [
       "  0%|          | 0/1 [00:00<?, ?it/s]"
      ]
     },
     "metadata": {},
     "output_type": "display_data"
    },
    {
     "data": {
      "text/plain": [
       "[]"
      ]
     },
     "execution_count": 7,
     "metadata": {},
     "output_type": "execute_result"
    }
   ],
   "source": [
    "processor.update_data(\n",
    "    ['clip_ViT-L/14_similarity'],\n",
    "    processes=16\n",
    ")"
   ]
  },
  {
   "cell_type": "markdown",
   "id": "bdbe2b9b-f03d-486e-9bff-fce1bd74a0a7",
   "metadata": {},
   "source": [
    "ruCLIP similarity between image and caption"
   ]
  },
  {
   "cell_type": "code",
   "execution_count": 8,
   "id": "18d9573f-3203-44e9-b2f0-17726dd5add4",
   "metadata": {},
   "outputs": [
    {
     "name": "stderr",
     "output_type": "stream",
     "text": [
      "100%|██████████| 3/3 [00:16<00:00,  5.44s/it]\n"
     ]
    }
   ],
   "source": [
    "from DPF.filters.text2image.ruclip_filter import RuCLIPFilter\n",
    "\n",
    "ruclip_filter = RuCLIPFilter(\n",
    "    ruclip_version='ruclip-vit-large-patch14-336', \n",
    "    templates=['{}'],\n",
    "    weights_folder='path_to_weights_folder',\n",
    "    workers=8, batch_size=64,\n",
    "    device='cuda:0'\n",
    ")\n",
    "\n",
    "processor.apply_filter(ruclip_filter)"
   ]
  },
  {
   "cell_type": "code",
   "execution_count": 9,
   "id": "e3dce46a-d913-4870-9600-f531d3cd12ab",
   "metadata": {},
   "outputs": [
    {
     "data": {
      "application/vnd.jupyter.widget-view+json": {
       "model_id": "27b5595d278b4a0eb615f0b8b7133bff",
       "version_major": 2,
       "version_minor": 0
      },
      "text/plain": [
       "  0%|          | 0/1 [00:00<?, ?it/s]"
      ]
     },
     "metadata": {},
     "output_type": "display_data"
    },
    {
     "data": {
      "text/plain": [
       "[]"
      ]
     },
     "execution_count": 9,
     "metadata": {},
     "output_type": "execute_result"
    }
   ],
   "source": [
    "processor.update_data(\n",
    "    ['ruclip-vit-large-patch14-336_similarity'],\n",
    "    processes=16\n",
    ")"
   ]
  },
  {
   "cell_type": "markdown",
   "id": "9dd8312f-64c8-4b1e-808f-a96909be7049",
   "metadata": {},
   "source": [
    "### WatermarksFilter with CLIPLabelsFilter"
   ]
  },
  {
   "cell_type": "markdown",
   "id": "c7c05d31-5308-47f9-b593-08758797ab42",
   "metadata": {},
   "source": [
    "_WatermarksFilter_ - watermarks detection"
   ]
  },
  {
   "cell_type": "code",
   "execution_count": 10,
   "id": "ca374e37-63f6-4005-8885-05ab422c5598",
   "metadata": {},
   "outputs": [
    {
     "name": "stderr",
     "output_type": "stream",
     "text": [
      "100%|██████████| 1/1 [00:25<00:00, 25.43s/it]\n"
     ]
    }
   ],
   "source": [
    "from DPF.filters.images.watermarks_filter import WatermarksFilter\n",
    "from DPF.filters import ComplexFilter\n",
    "\n",
    "watermarks_filter_small = WatermarksFilter(\n",
    "    'resnext50_32x4d-small',\n",
    "    weights_folder='path_to_weights_folder',\n",
    "    workers=8, batch_size=256,\n",
    "    device='cuda:0'\n",
    ")\n",
    "\n",
    "watermarks_filter_large = WatermarksFilter(\n",
    "    'resnext101_32x8d-large',\n",
    "    weights_folder='path_to_weights_folder',\n",
    "    workers=8, batch_size=256,\n",
    "    device='cuda:0'\n",
    ")\n",
    "\n",
    "cfilter = ComplexFilter(\n",
    "    [watermarks_filter_small, watermarks_filter_large], \n",
    "    use_same_preprocess=True, workers=16\n",
    ")\n",
    "processor.apply_filter(cfilter)\n",
    "\n"
   ]
  },
  {
   "cell_type": "code",
   "execution_count": 11,
   "id": "2c8677b4-d08f-43f6-8996-d644fd6528c8",
   "metadata": {},
   "outputs": [
    {
     "data": {
      "application/vnd.jupyter.widget-view+json": {
       "model_id": "bf766de59be14f3cb2aec099cbc4d77d",
       "version_major": 2,
       "version_minor": 0
      },
      "text/plain": [
       "  0%|          | 0/1 [00:00<?, ?it/s]"
      ]
     },
     "metadata": {},
     "output_type": "display_data"
    },
    {
     "data": {
      "text/plain": [
       "[]"
      ]
     },
     "execution_count": 11,
     "metadata": {},
     "output_type": "execute_result"
    }
   ],
   "source": [
    "processor.update_data(\n",
    "    ['watermark_resnext50_32x4d-small', 'watermark_resnext101_32x8d-large'],\n",
    "    processes=16\n",
    ")"
   ]
  },
  {
   "cell_type": "markdown",
   "id": "2afd3dda-795c-4834-b35e-5458f08bfc4a",
   "metadata": {},
   "source": [
    "Labeling with CLIP"
   ]
  },
  {
   "cell_type": "code",
   "execution_count": 12,
   "id": "0ee5a0cc-f36f-4c48-8061-12f2cac5d295",
   "metadata": {},
   "outputs": [
    {
     "name": "stdout",
     "output_type": "stream",
     "text": [
      "['image_path', 'ViT-L/14 clip score \"picture has watermark\"', 'ViT-L/14 clip score \"slide of presentation with text\"', 'ViT-L/14 clip score \"document with text\"', 'ViT-L/14 clip score \"web site with text\"']\n"
     ]
    },
    {
     "name": "stderr",
     "output_type": "stream",
     "text": [
      "100%|██████████| 1/1 [00:22<00:00, 22.61s/it]\n"
     ]
    }
   ],
   "source": [
    "from DPF.filters.images.cliplabels_filter import CLIPLabelsFilter\n",
    "\n",
    "labels_for_clip = [\n",
    "    \"picture has watermark\",\n",
    "    \"slide of presentation with text\",\n",
    "    \"document with text\",\n",
    "    \"web site with text\"\n",
    "]\n",
    "\n",
    "clip_filter = CLIPLabelsFilter(\n",
    "    clip_model='ViT-L/14',\n",
    "    templates=['{}'],\n",
    "    weights_folder='path_to_weights_folder',\n",
    "    labels=labels_for_clip,\n",
    "    workers=16, batch_size=512,\n",
    "    device='cuda:0'\n",
    ")\n",
    "\n",
    "print(clip_filter.schema)\n",
    "\n",
    "processor.apply_filter(clip_filter)"
   ]
  },
  {
   "cell_type": "code",
   "execution_count": 13,
   "id": "6a7a06c9-055b-4340-ab63-abfe3436d07a",
   "metadata": {},
   "outputs": [
    {
     "data": {
      "application/vnd.jupyter.widget-view+json": {
       "model_id": "84d2b45ff3214aa395d3edb28d9925a9",
       "version_major": 2,
       "version_minor": 0
      },
      "text/plain": [
       "  0%|          | 0/1 [00:00<?, ?it/s]"
      ]
     },
     "metadata": {},
     "output_type": "display_data"
    },
    {
     "data": {
      "text/plain": [
       "[]"
      ]
     },
     "execution_count": 13,
     "metadata": {},
     "output_type": "execute_result"
    }
   ],
   "source": [
    "processor.update_data(\n",
    "    ['ViT-L/14 clip score \"picture has watermark\"',\n",
    "     'ViT-L/14 clip score \"slide of presentation with text\"',\n",
    "     'ViT-L/14 clip score \"document with text\"',\n",
    "     'ViT-L/14 clip score \"web site with text\"'],\n",
    "    processes=16\n",
    ")"
   ]
  },
  {
   "cell_type": "markdown",
   "id": "5cb3ddd2-39f1-44a7-9187-9d7ea84e1d60",
   "metadata": {},
   "source": [
    "Combine WatermarksFilter and CLIPLabelsFilter"
   ]
  },
  {
   "cell_type": "code",
   "execution_count": 14,
   "id": "85d76959-0401-4739-a327-c4ed0a5f3b33",
   "metadata": {},
   "outputs": [],
   "source": [
    "df = processor.df\n",
    "\n",
    "min_clip_score = 0.14\n",
    "max_clip_score = 0.2\n",
    "clip_score_diff = max_clip_score-min_clip_score\n",
    "\n",
    "clip_prob_watermark = (\n",
    "    (df['ViT-L/14 clip score \"picture has watermark\"']-min_clip_score)/clip_score_diff \n",
    ")\n",
    "\n",
    "df['watermark_prob'] = df['watermark_resnext50_32x4d-small']*0.3 \\\n",
    "                       + df['watermark_resnext101_32x8d-large']*0.4 \\\n",
    "                       + clip_prob_watermark*0.3\n",
    "\n",
    "df.loc[df['watermark_prob']<0, 'watermark_prob'] = 0\n",
    "df.loc[df['watermark_prob']>1, 'watermark_prob'] = 1\n",
    "\n",
    "max_text_score = df[\n",
    "    ['ViT-L/14 clip score \"slide of presentation with text\"',\n",
    "     'ViT-L/14 clip score \"document with text\"', \n",
    "     'ViT-L/14 clip score \"web site with text\"']\n",
    "].max(axis=1)\n",
    "\n",
    "clip_prob_text = (max_text_score-min_clip_score)/clip_score_diff\n",
    "clip_prob_text[clip_prob_text<0] = 0\n",
    "clip_prob_text[clip_prob_text>1] = 1\n",
    "\n",
    "df['webdocument_prob'] = clip_prob_text"
   ]
  },
  {
   "cell_type": "code",
   "execution_count": 15,
   "id": "8fda016f-738e-4d55-a4eb-042a445f2379",
   "metadata": {},
   "outputs": [
    {
     "data": {
      "application/vnd.jupyter.widget-view+json": {
       "model_id": "84b9c586d1164e9eb99d31b930915532",
       "version_major": 2,
       "version_minor": 0
      },
      "text/plain": [
       "  0%|          | 0/1 [00:00<?, ?it/s]"
      ]
     },
     "metadata": {},
     "output_type": "display_data"
    },
    {
     "data": {
      "text/plain": [
       "[]"
      ]
     },
     "execution_count": 15,
     "metadata": {},
     "output_type": "execute_result"
    }
   ],
   "source": [
    "processor.update_data(\n",
    "    ['watermark_prob',\n",
    "     'webdocument_prob'],\n",
    "    processes=16\n",
    ")"
   ]
  },
  {
   "cell_type": "markdown",
   "id": "9b1d7b14-f236-443f-855a-6d86c63d7e5c",
   "metadata": {},
   "source": [
    "### Duplicate"
   ]
  },
  {
   "cell_type": "markdown",
   "id": "bbf69cfb-f3f6-42fd-b98c-8b8f46bdb546",
   "metadata": {},
   "source": [
    "_PHashFilter_ - filter to get information about images: phash. "
   ]
  },
  {
   "cell_type": "code",
   "execution_count": 17,
   "id": "4463dc95-d01b-4f14-8d35-e8b584f722a9",
   "metadata": {},
   "outputs": [
    {
     "name": "stderr",
     "output_type": "stream",
     "text": [
      "100%|██████████| 192/192 [00:16<00:00, 11.85it/s]\n"
     ]
    }
   ],
   "source": [
    "from DPF.filters.images.hash_filters import PHashFilter\n",
    "\n",
    "phash_filter = PHashFilter(sim_hash_size=8, workers=16)\n",
    "processor.apply_filter(phash_filter)\n",
    "\n",
    "df = processor.df"
   ]
  },
  {
   "cell_type": "markdown",
   "id": "7c44e648-5371-4b02-a2b5-e294fd471f39",
   "metadata": {},
   "source": [
    "duplicated"
   ]
  },
  {
   "cell_type": "code",
   "execution_count": 18,
   "id": "a3f0ef18-25fc-44e3-88b9-754492e684b1",
   "metadata": {},
   "outputs": [],
   "source": [
    "df['is_duplicate'] = False\n",
    "df.loc[df['image_phash_8'].duplicated(), 'is_duplicate'] = True"
   ]
  },
  {
   "cell_type": "code",
   "execution_count": 19,
   "id": "bb3ea10d-7555-448b-a906-7fd98a062994",
   "metadata": {},
   "outputs": [
    {
     "data": {
      "application/vnd.jupyter.widget-view+json": {
       "model_id": "b46353364348485a8f1d86f680e37b9c",
       "version_major": 2,
       "version_minor": 0
      },
      "text/plain": [
       "  0%|          | 0/1 [00:00<?, ?it/s]"
      ]
     },
     "metadata": {},
     "output_type": "display_data"
    },
    {
     "data": {
      "text/plain": [
       "[]"
      ]
     },
     "execution_count": 19,
     "metadata": {},
     "output_type": "execute_result"
    }
   ],
   "source": [
    "processor.update_data(\n",
    "    ['image_phash_8', 'is_duplicate'],\n",
    "    processes=16\n",
    ")"
   ]
  },
  {
   "cell_type": "markdown",
   "id": "bbb4606a-9b99-4409-a94e-fd9215b7824d",
   "metadata": {},
   "source": [
    "### TextFilter"
   ]
  },
  {
   "cell_type": "markdown",
   "id": "9b029249-b488-4433-a433-9ff792ce5c0f",
   "metadata": {},
   "source": [
    "_LangFilter_ - filter to get information about caption: lang and lang score "
   ]
  },
  {
   "cell_type": "code",
   "execution_count": 23,
   "id": "d9c0d547-a180-4418-9413-b6e233d0c321",
   "metadata": {},
   "outputs": [
    {
     "name": "stdout",
     "output_type": "stream",
     "text": [
      "INFO: Pandarallel will run on 16 workers.\n",
      "INFO: Pandarallel will use Memory file system to transfer data between the main process and workers.\n"
     ]
    }
   ],
   "source": [
    "from DPF.filters.texts.lang_filter import LangFilter\n",
    "\n",
    "lang_filter = LangFilter(\n",
    "    text_column_name='caption',\n",
    "    workers=16\n",
    ")\n",
    "\n",
    "processor.apply_filter(lang_filter)"
   ]
  },
  {
   "cell_type": "code",
   "execution_count": null,
   "id": "0a371564-66e2-4656-bf87-f9a26a3bdfda",
   "metadata": {},
   "outputs": [
    {
     "data": {
      "application/vnd.jupyter.widget-view+json": {
       "model_id": "",
       "version_major": 2,
       "version_minor": 0
      },
      "text/plain": [
       "  0%|          | 0/1 [00:00<?, ?it/s]"
      ]
     },
     "metadata": {},
     "output_type": "display_data"
    },
    {
     "data": {
      "text/plain": [
       "[]"
      ]
     },
     "execution_count": 24,
     "metadata": {},
     "output_type": "execute_result"
    }
   ],
   "source": [
    "processor.update_data(\n",
    "    ['lang', 'lang_score'],\n",
    "    processes=16\n",
    ")"
   ]
  },
  {
   "cell_type": "markdown",
   "id": "81c132b1-46a0-4c5f-abf8-783f39ef2fdb",
   "metadata": {},
   "source": [
    "_RegexFilter_ - filter that cleans the text from unnecessary words, using regular expressions"
   ]
  },
  {
   "cell_type": "code",
   "execution_count": 25,
   "id": "5faa3e57-df40-47e7-9555-be92b08e6c31",
   "metadata": {},
   "outputs": [
    {
     "name": "stdout",
     "output_type": "stream",
     "text": [
      "Can't import package re2, using re package. It is recommended to use more efficient re2 package.\n",
      "INFO: Pandarallel will run on 16 workers.\n",
      "INFO: Pandarallel will use Memory file system to transfer data between the main process and workers.\n"
     ]
    }
   ],
   "source": [
    "from DPF.filters.texts.regex_filter import RegexFilter\n",
    "from DPF.filters.texts.regexs import *\n",
    "\n",
    "regex_filter = RegexFilter(\n",
    "    text_column_name='caption',\n",
    "    regex_replacement_list=ru_regexs+special_regexs+emoji_regexs\n",
    ")\n",
    "\n",
    "processor.apply_filter(regex_filter)"
   ]
  },
  {
   "cell_type": "code",
   "execution_count": 26,
   "id": "3bf3bd42-1d0a-4b20-945d-9a97f134ebcf",
   "metadata": {},
   "outputs": [
    {
     "data": {
      "application/vnd.jupyter.widget-view+json": {
       "model_id": "f67aacca499c46f38668e9f674e014e2",
       "version_major": 2,
       "version_minor": 0
      },
      "text/plain": [
       "  0%|          | 0/1 [00:00<?, ?it/s]"
      ]
     },
     "metadata": {},
     "output_type": "display_data"
    },
    {
     "data": {
      "text/plain": [
       "[]"
      ]
     },
     "execution_count": 26,
     "metadata": {},
     "output_type": "execute_result"
    }
   ],
   "source": [
    "processor.update_data(\n",
    "    ['clean_caption'],\n",
    "    processes=16\n",
    ")"
   ]
  },
  {
   "cell_type": "code",
   "execution_count": null,
   "id": "5343f625-c9d8-4872-aa42-0942e171005f",
   "metadata": {},
   "outputs": [],
   "source": []
  }
 ],
 "metadata": {
  "kernelspec": {
   "display_name": "Python 3 (ipykernel)",
   "language": "python",
   "name": "python3"
  },
  "language_info": {
   "codemirror_mode": {
    "name": "ipython",
    "version": 3
   },
   "file_extension": ".py",
   "mimetype": "text/x-python",
   "name": "python",
   "nbconvert_exporter": "python",
   "pygments_lexer": "ipython3",
   "version": "3.7.12"
  }
 },
 "nbformat": 4,
 "nbformat_minor": 5
}
