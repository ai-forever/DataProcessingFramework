{
 "cells": [
  {
   "cell_type": "code",
   "execution_count": 30,
   "id": "fc742310",
   "metadata": {},
   "outputs": [],
   "source": [
    "import sys\n",
    "sys.path.append('../')\n",
    "import pandas as pd\n",
    "import numpy as np\n",
    "\n",
    "from DPF.formatters.t2i_formatter import T2IFormatter\n",
    "from DPF.filters.images.base_images_info_filter import ImageInfoGatherer"
   ]
  },
  {
   "cell_type": "markdown",
   "id": "025c581e",
   "metadata": {
    "tags": []
   },
   "source": [
    "### Read dataset"
   ]
  },
  {
   "cell_type": "code",
   "execution_count": 2,
   "id": "edcaef31",
   "metadata": {},
   "outputs": [
    {
     "data": {
      "application/vnd.jupyter.widget-view+json": {
       "model_id": "30bf0bf5d9b4451b80ad238a56b9a8e5",
       "version_major": 2,
       "version_minor": 0
      },
      "text/plain": [
       "  0%|          | 0/1 [00:00<?, ?it/s]"
      ]
     },
     "metadata": {},
     "output_type": "display_data"
    }
   ],
   "source": [
    "formatter = T2IFormatter()\n",
    "shards_path = '../data/example_shards_format/'\n",
    "processor = formatter.from_shards(\n",
    "    shards_path, \n",
    "    imagename_column='image_name',\n",
    "    caption_column='caption',\n",
    "    progress_bar=True,\n",
    "    processes=8\n",
    ")"
   ]
  },
  {
   "cell_type": "markdown",
   "id": "e891983e",
   "metadata": {
    "tags": []
   },
   "source": [
    "### Create and run filter"
   ]
  },
  {
   "cell_type": "markdown",
   "id": "fcc22ed1",
   "metadata": {},
   "source": [
    "_ImageInfoGatherer_ - filter to get information about images: width, height, channels and image correctness"
   ]
  },
  {
   "cell_type": "code",
   "execution_count": 5,
   "id": "5b66e667",
   "metadata": {},
   "outputs": [
    {
     "name": "stderr",
     "output_type": "stream",
     "text": [
      "100%|██████████| 192/192 [00:12<00:00, 15.33it/s]\n"
     ]
    }
   ],
   "source": [
    "imgfilter = ImageInfoGatherer(\n",
    "    workers=16\n",
    ")\n",
    "processor.apply_filter(imgfilter)"
   ]
  },
  {
   "cell_type": "markdown",
   "id": "9a2e36c8",
   "metadata": {},
   "source": [
    "Filter adds new columns to a dataframe.\n",
    "You can get names of new columns by printing _imgfilter.schema_"
   ]
  },
  {
   "cell_type": "code",
   "execution_count": 6,
   "id": "a6291ec4",
   "metadata": {},
   "outputs": [
    {
     "data": {
      "text/plain": [
       "['image_path', 'is_correct', 'width', 'height', 'channels', 'error']"
      ]
     },
     "execution_count": 6,
     "metadata": {},
     "output_type": "execute_result"
    }
   ],
   "source": [
    "imgfilter.schema"
   ]
  },
  {
   "cell_type": "markdown",
   "id": "50c3f417",
   "metadata": {},
   "source": [
    "Let's check a dataframe"
   ]
  },
  {
   "cell_type": "code",
   "execution_count": 7,
   "id": "bd860562",
   "metadata": {},
   "outputs": [
    {
     "data": {
      "text/html": [
       "<div>\n",
       "<style scoped>\n",
       "    .dataframe tbody tr th:only-of-type {\n",
       "        vertical-align: middle;\n",
       "    }\n",
       "\n",
       "    .dataframe tbody tr th {\n",
       "        vertical-align: top;\n",
       "    }\n",
       "\n",
       "    .dataframe thead th {\n",
       "        text-align: right;\n",
       "    }\n",
       "</style>\n",
       "<table border=\"1\" class=\"dataframe\">\n",
       "  <thead>\n",
       "    <tr style=\"text-align: right;\">\n",
       "      <th></th>\n",
       "      <th>image_name</th>\n",
       "      <th>caption</th>\n",
       "      <th>is_correct</th>\n",
       "      <th>width</th>\n",
       "      <th>height</th>\n",
       "      <th>channels</th>\n",
       "      <th>error</th>\n",
       "    </tr>\n",
       "  </thead>\n",
       "  <tbody>\n",
       "    <tr>\n",
       "      <th>0</th>\n",
       "      <td>ProstokvashinoNew-01_Vozvraschenie-01_eee0013.png</td>\n",
       "      <td>Матроскин из мультфильма \"Простоквашино\"</td>\n",
       "      <td>True</td>\n",
       "      <td>1920</td>\n",
       "      <td>1080</td>\n",
       "      <td>3</td>\n",
       "      <td>None</td>\n",
       "    </tr>\n",
       "    <tr>\n",
       "      <th>1</th>\n",
       "      <td>ProstokvashinoNew-02_Vozvraschenie-02_eee0019.png</td>\n",
       "      <td>Матроскин из мультфильма \"Простоквашино\"</td>\n",
       "      <td>True</td>\n",
       "      <td>1920</td>\n",
       "      <td>1080</td>\n",
       "      <td>3</td>\n",
       "      <td>None</td>\n",
       "    </tr>\n",
       "    <tr>\n",
       "      <th>2</th>\n",
       "      <td>ProstokvashinoNew-04_DietaMatroskina_eee0004.png</td>\n",
       "      <td>Матроскин из мультфильма \"Простоквашино\"</td>\n",
       "      <td>True</td>\n",
       "      <td>1920</td>\n",
       "      <td>1080</td>\n",
       "      <td>3</td>\n",
       "      <td>None</td>\n",
       "    </tr>\n",
       "    <tr>\n",
       "      <th>3</th>\n",
       "      <td>ProstokvashinoNew-04_DietaMatroskina_eee0012.png</td>\n",
       "      <td>Матроскин из мультфильма \"Простоквашино\"</td>\n",
       "      <td>True</td>\n",
       "      <td>1920</td>\n",
       "      <td>1080</td>\n",
       "      <td>3</td>\n",
       "      <td>None</td>\n",
       "    </tr>\n",
       "    <tr>\n",
       "      <th>4</th>\n",
       "      <td>ProstokvashinoNew-05_SHarikHochetTelefon_eee00...</td>\n",
       "      <td>Матроскин из мультфильма \"Простоквашино\"</td>\n",
       "      <td>True</td>\n",
       "      <td>1920</td>\n",
       "      <td>1080</td>\n",
       "      <td>3</td>\n",
       "      <td>None</td>\n",
       "    </tr>\n",
       "  </tbody>\n",
       "</table>\n",
       "</div>"
      ],
      "text/plain": [
       "                                          image_name  \\\n",
       "0  ProstokvashinoNew-01_Vozvraschenie-01_eee0013.png   \n",
       "1  ProstokvashinoNew-02_Vozvraschenie-02_eee0019.png   \n",
       "2   ProstokvashinoNew-04_DietaMatroskina_eee0004.png   \n",
       "3   ProstokvashinoNew-04_DietaMatroskina_eee0012.png   \n",
       "4  ProstokvashinoNew-05_SHarikHochetTelefon_eee00...   \n",
       "\n",
       "                                    caption  is_correct  width  height  \\\n",
       "0  Матроскин из мультфильма \"Простоквашино\"        True   1920    1080   \n",
       "1  Матроскин из мультфильма \"Простоквашино\"        True   1920    1080   \n",
       "2  Матроскин из мультфильма \"Простоквашино\"        True   1920    1080   \n",
       "3  Матроскин из мультфильма \"Простоквашино\"        True   1920    1080   \n",
       "4  Матроскин из мультфильма \"Простоквашино\"        True   1920    1080   \n",
       "\n",
       "   channels error  \n",
       "0         3  None  \n",
       "1         3  None  \n",
       "2         3  None  \n",
       "3         3  None  \n",
       "4         3  None  "
      ]
     },
     "execution_count": 7,
     "metadata": {},
     "output_type": "execute_result"
    }
   ],
   "source": [
    "processor.df.head()[['image_name', 'caption', 'is_correct', 'width', 'height', 'channels', 'error']]"
   ]
  },
  {
   "cell_type": "markdown",
   "id": "076b1653",
   "metadata": {
    "tags": []
   },
   "source": [
    "### Save new columns"
   ]
  },
  {
   "cell_type": "markdown",
   "id": "35bcff46",
   "metadata": {},
   "source": [
    "To save new columns, call _processor.update_data_"
   ]
  },
  {
   "cell_type": "code",
   "execution_count": 8,
   "id": "6d232930",
   "metadata": {},
   "outputs": [
    {
     "name": "stdout",
     "output_type": "stream",
     "text": [
      "Help on method update_data in module DPF.processors.text2image.t2i_processor:\n",
      "\n",
      "update_data(columns_to_add: List[str], overwrite_columns: bool = True, processes: int = 1, force: bool = False) -> List[str] method of DPF.processors.text2image.shards_processor.ShardsProcessor instance\n",
      "    Updates existing columns and adds new columns in dataframes of a dataset\n",
      "    \n",
      "    Parameters\n",
      "    ----------\n",
      "    columns_to_add: list[str]\n",
      "        List of column names to update or add\n",
      "    overwrite_columns: bool = True\n",
      "        Change (overwrite) or not existing columns\n",
      "    processes: int = 1\n",
      "        Number of parallel processes to read and update dataframes\n",
      "    force: bool = False\n",
      "        Force update if dataframe shape was changed\n",
      "        \n",
      "    Returns\n",
      "    -------\n",
      "    list[str]\n",
      "        List of occured errors\n",
      "\n"
     ]
    }
   ],
   "source": [
    "help(processor.update_data)"
   ]
  },
  {
   "cell_type": "code",
   "execution_count": 9,
   "id": "42246ec6",
   "metadata": {},
   "outputs": [
    {
     "data": {
      "application/vnd.jupyter.widget-view+json": {
       "model_id": "9d96d8894493479da72453fab9fa6451",
       "version_major": 2,
       "version_minor": 0
      },
      "text/plain": [
       "  0%|          | 0/1 [00:00<?, ?it/s]"
      ]
     },
     "metadata": {},
     "output_type": "display_data"
    },
    {
     "data": {
      "text/plain": [
       "[]"
      ]
     },
     "execution_count": 9,
     "metadata": {},
     "output_type": "execute_result"
    }
   ],
   "source": [
    "processor.update_data(\n",
    "    ['is_correct', 'width', 'height', 'channels', 'error'],\n",
    "    processes=8\n",
    ")"
   ]
  }
 ],
 "metadata": {
  "kernelspec": {
   "display_name": "Python 3 (ipykernel)",
   "language": "python",
   "name": "python3"
  },
  "language_info": {
   "codemirror_mode": {
    "name": "ipython",
    "version": 3
   },
   "file_extension": ".py",
   "mimetype": "text/x-python",
   "name": "python",
   "nbconvert_exporter": "python",
   "pygments_lexer": "ipython3",
   "version": "3.7.12"
  }
 },
 "nbformat": 4,
 "nbformat_minor": 5
}
