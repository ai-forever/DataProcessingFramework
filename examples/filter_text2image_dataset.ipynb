{
 "cells": [
  {
   "cell_type": "code",
   "execution_count": 1,
   "id": "fc742310",
   "metadata": {},
   "outputs": [],
   "source": [
    "import sys\n",
    "sys.path.append('../')\n",
    "import pandas as pd\n",
    "import numpy as np\n",
    "\n",
    "from DPF.formatters.t2i_formatter import T2IFormatter\n",
    "from DPF.filters.images.base_images_info_filter import ImageInfoGatherer"
   ]
  },
  {
   "cell_type": "markdown",
   "id": "025c581e",
   "metadata": {},
   "source": [
    "### Read dataset"
   ]
  },
  {
   "cell_type": "code",
   "execution_count": 2,
   "id": "edcaef31",
   "metadata": {},
   "outputs": [
    {
     "data": {
      "application/vnd.jupyter.widget-view+json": {
       "model_id": "a948a9cab6544a5c85a9cc700c003857",
       "version_major": 2,
       "version_minor": 0
      },
      "text/plain": [
       "  0%|          | 0/21 [00:00<?, ?it/s]"
      ]
     },
     "metadata": {},
     "output_type": "display_data"
    }
   ],
   "source": [
    "formatter = T2IFormatter()\n",
    "\n",
    "processor = formatter.from_shards(\n",
    "    '../data/example_shards_format/', \n",
    "    imagename_column='image_name',\n",
    "    caption_column='rus_caption',\n",
    "    progress_bar=True,\n",
    "    processes=8\n",
    ")"
   ]
  },
  {
   "cell_type": "markdown",
   "id": "e891983e",
   "metadata": {},
   "source": [
    "### Create and run filter"
   ]
  },
  {
   "cell_type": "markdown",
   "id": "fcc22ed1",
   "metadata": {},
   "source": [
    "_ImageInfoGatherer_ - filter to get information about images: width, height, channels and image correctness"
   ]
  },
  {
   "cell_type": "code",
   "execution_count": 3,
   "id": "5b66e667",
   "metadata": {},
   "outputs": [
    {
     "name": "stderr",
     "output_type": "stream",
     "text": [
      "100%|██████████| 20013/20013 [00:08<00:00, 2430.58it/s]\n"
     ]
    }
   ],
   "source": [
    "imgfilter = ImageInfoGatherer(\n",
    "    save_parquets=False, \n",
    "    workers=16\n",
    ")\n",
    "processor.apply_filter(imgfilter)"
   ]
  },
  {
   "cell_type": "markdown",
   "id": "9a2e36c8",
   "metadata": {},
   "source": [
    "Filter adds new columns to a dataframe.\n",
    "You can get names of new columns by printing _imgfilter.schema_"
   ]
  },
  {
   "cell_type": "code",
   "execution_count": 5,
   "id": "a6291ec4",
   "metadata": {},
   "outputs": [
    {
     "data": {
      "text/plain": [
       "['image_path', 'is_correct', 'width', 'height', 'channels', 'error']"
      ]
     },
     "execution_count": 5,
     "metadata": {},
     "output_type": "execute_result"
    }
   ],
   "source": [
    "imgfilter.schema"
   ]
  },
  {
   "cell_type": "markdown",
   "id": "50c3f417",
   "metadata": {},
   "source": [
    "Let's check a dataframe"
   ]
  },
  {
   "cell_type": "code",
   "execution_count": 7,
   "id": "bd860562",
   "metadata": {},
   "outputs": [
    {
     "data": {
      "text/html": [
       "<div>\n",
       "<style scoped>\n",
       "    .dataframe tbody tr th:only-of-type {\n",
       "        vertical-align: middle;\n",
       "    }\n",
       "\n",
       "    .dataframe tbody tr th {\n",
       "        vertical-align: top;\n",
       "    }\n",
       "\n",
       "    .dataframe thead th {\n",
       "        text-align: right;\n",
       "    }\n",
       "</style>\n",
       "<table border=\"1\" class=\"dataframe\">\n",
       "  <thead>\n",
       "    <tr style=\"text-align: right;\">\n",
       "      <th></th>\n",
       "      <th>image_name</th>\n",
       "      <th>caption</th>\n",
       "      <th>is_correct</th>\n",
       "      <th>width</th>\n",
       "      <th>height</th>\n",
       "      <th>channels</th>\n",
       "      <th>error</th>\n",
       "    </tr>\n",
       "  </thead>\n",
       "  <tbody>\n",
       "    <tr>\n",
       "      <th>0</th>\n",
       "      <td>d44_3810246.jpg</td>\n",
       "      <td>картина автора сергея юрьевича ефрема \"селезен...</td>\n",
       "      <td>True</td>\n",
       "      <td>514</td>\n",
       "      <td>384</td>\n",
       "      <td>3</td>\n",
       "      <td>None</td>\n",
       "    </tr>\n",
       "    <tr>\n",
       "      <th>1</th>\n",
       "      <td>721_545170.jpg</td>\n",
       "      <td>картина \"гротеск метаморфозы\" в стиле сюрреали...</td>\n",
       "      <td>True</td>\n",
       "      <td>455</td>\n",
       "      <td>384</td>\n",
       "      <td>3</td>\n",
       "      <td>None</td>\n",
       "    </tr>\n",
       "    <tr>\n",
       "      <th>2</th>\n",
       "      <td>ea5_827246.jpg</td>\n",
       "      <td>текстиль, картина новая деревня</td>\n",
       "      <td>True</td>\n",
       "      <td>384</td>\n",
       "      <td>504</td>\n",
       "      <td>3</td>\n",
       "      <td>None</td>\n",
       "    </tr>\n",
       "    <tr>\n",
       "      <th>3</th>\n",
       "      <td>8a7_767448.jpg</td>\n",
       "      <td>наталия багацкая, картина \"quo vadis?..\" в сти...</td>\n",
       "      <td>True</td>\n",
       "      <td>387</td>\n",
       "      <td>384</td>\n",
       "      <td>3</td>\n",
       "      <td>None</td>\n",
       "    </tr>\n",
       "    <tr>\n",
       "      <th>4</th>\n",
       "      <td>8a8_335602.jpg</td>\n",
       "      <td>картина владимира георгиевича гремитского \"бер...</td>\n",
       "      <td>True</td>\n",
       "      <td>384</td>\n",
       "      <td>480</td>\n",
       "      <td>3</td>\n",
       "      <td>None</td>\n",
       "    </tr>\n",
       "  </tbody>\n",
       "</table>\n",
       "</div>"
      ],
      "text/plain": [
       "        image_name                                            caption  \\\n",
       "0  d44_3810246.jpg  картина автора сергея юрьевича ефрема \"селезен...   \n",
       "1   721_545170.jpg  картина \"гротеск метаморфозы\" в стиле сюрреали...   \n",
       "2   ea5_827246.jpg                    текстиль, картина новая деревня   \n",
       "3   8a7_767448.jpg  наталия багацкая, картина \"quo vadis?..\" в сти...   \n",
       "4   8a8_335602.jpg  картина владимира георгиевича гремитского \"бер...   \n",
       "\n",
       "   is_correct  width  height  channels error  \n",
       "0        True    514     384         3  None  \n",
       "1        True    455     384         3  None  \n",
       "2        True    384     504         3  None  \n",
       "3        True    387     384         3  None  \n",
       "4        True    384     480         3  None  "
      ]
     },
     "execution_count": 7,
     "metadata": {},
     "output_type": "execute_result"
    }
   ],
   "source": [
    "processor.df.head()[['image_name', 'caption', 'is_correct', 'width', 'height', 'channels', 'error']]"
   ]
  },
  {
   "cell_type": "markdown",
   "id": "076b1653",
   "metadata": {},
   "source": [
    "### Save new columns"
   ]
  },
  {
   "cell_type": "markdown",
   "id": "35bcff46",
   "metadata": {},
   "source": [
    "To save new columns, call _processor.update_data_"
   ]
  },
  {
   "cell_type": "code",
   "execution_count": 9,
   "id": "6d232930",
   "metadata": {},
   "outputs": [
    {
     "name": "stdout",
     "output_type": "stream",
     "text": [
      "Help on method update_data in module DPF.processors.text2image.t2i_processor:\n",
      "\n",
      "update_data(columns_to_add: List[str], overwrite_columns: bool = True, processes: int = 1, force: bool = False) -> List[str] method of DPF.processors.text2image.shards_processor.ShardsProcessor instance\n",
      "    Updates existing columns and adds new columns in dataframes of a dataset\n",
      "    \n",
      "    Parameters\n",
      "    ----------\n",
      "    columns_to_add: list[str]\n",
      "        List of column names to update or add\n",
      "    overwrite_columns: bool = True\n",
      "        Change (overwrite) or not existing columns\n",
      "    processes: int = 1\n",
      "        Number of parallel processes to read and update dataframes\n",
      "    force: bool = False\n",
      "        Force update if dataframe shape was changed\n",
      "        \n",
      "    Returns\n",
      "    -------\n",
      "    list[str]\n",
      "        List of occured errors\n",
      "\n"
     ]
    }
   ],
   "source": [
    "help(processor.update_data)"
   ]
  },
  {
   "cell_type": "code",
   "execution_count": 10,
   "id": "42246ec6",
   "metadata": {},
   "outputs": [
    {
     "data": {
      "application/vnd.jupyter.widget-view+json": {
       "model_id": "7b7081b0136640a0b0d32315d460e943",
       "version_major": 2,
       "version_minor": 0
      },
      "text/plain": [
       "  0%|          | 0/21 [00:00<?, ?it/s]"
      ]
     },
     "metadata": {},
     "output_type": "display_data"
    },
    {
     "data": {
      "text/plain": [
       "[]"
      ]
     },
     "execution_count": 10,
     "metadata": {},
     "output_type": "execute_result"
    }
   ],
   "source": [
    "processor.update_data(\n",
    "    ['is_correct', 'width', 'height', 'channels', 'error'],\n",
    "    processes=8\n",
    ")"
   ]
  },
  {
   "cell_type": "code",
   "execution_count": null,
   "id": "0b6c8c17",
   "metadata": {},
   "outputs": [],
   "source": []
  }
 ],
 "metadata": {
  "kernelspec": {
   "display_name": "Python 3 (ipykernel)",
   "language": "python",
   "name": "python3"
  },
  "language_info": {
   "codemirror_mode": {
    "name": "ipython",
    "version": 3
   },
   "file_extension": ".py",
   "mimetype": "text/x-python",
   "name": "python",
   "nbconvert_exporter": "python",
   "pygments_lexer": "ipython3",
   "version": "3.7.12"
  }
 },
 "nbformat": 4,
 "nbformat_minor": 5
}
