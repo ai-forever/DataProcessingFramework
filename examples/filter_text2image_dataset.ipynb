{
 "cells": [
  {
   "cell_type": "code",
   "execution_count": 1,
   "id": "fc742310",
   "metadata": {},
   "outputs": [
    {
     "name": "stdout",
     "output_type": "stream",
     "text": [
      "Can't import package re2, using re package. It is recommended to use more efficient re2 package.\n"
     ]
    }
   ],
   "source": [
    "import sys\n",
    "sys.path.append('../')\n",
    "import pandas as pd\n",
    "import numpy as np\n",
    "import matplotlib.pyplot as plt\n",
    "\n",
    "from DPF.formatters.t2i_formatter import T2IFormatter\n",
    "from DPF.filesystems.s3filesystem import S3FileSystem\n",
    "\n",
    "from DPF.filters.images.base_images_info_filter import ImageInfoGatherer\n",
    "from DPF.filters.images.hash_filters import PHashFilter\n",
    "from DPF.filters.images.watermarks_filter import WatermarksFilter\n",
    "from DPF.filters.images.cliplabels_filter import CLIPLabelsFilter\n",
    "\n",
    "from DPF.validators.text2image.shards_validator import ShardsValidator\n",
    "\n",
    "from DPF.filters.text2image.clip_filter import CLIPFilter\n",
    "from DPF.filters.text2image.ruclip_filter import RuCLIPFilter\n",
    "\n",
    "from DPF.filters import ComplexFilter\n",
    "\n",
    "from DPF.filters.texts.lang_filter import LangFilter\n",
    "from DPF.filters.texts.regex_filter import RegexFilter\n",
    "from DPF.filters.texts.regexs import *\n"
   ]
  },
  {
   "cell_type": "markdown",
   "id": "025c581e",
   "metadata": {
    "tags": []
   },
   "source": [
    "### Read dataset"
   ]
  },
  {
   "cell_type": "code",
   "execution_count": 2,
   "id": "edcaef31",
   "metadata": {},
   "outputs": [
    {
     "data": {
      "application/vnd.jupyter.widget-view+json": {
       "model_id": "30bf0bf5d9b4451b80ad238a56b9a8e5",
       "version_major": 2,
       "version_minor": 0
      },
      "text/plain": [
       "  0%|          | 0/1 [00:00<?, ?it/s]"
      ]
     },
     "metadata": {},
     "output_type": "display_data"
    }
   ],
   "source": [
    "formatter = T2IFormatter()\n",
    "shards_path = '../data/example_shards_format/'\n",
    "processor = formatter.from_shards(\n",
    "    shards_path, \n",
    "    imagename_column='image_name',\n",
    "    caption_column='caption',\n",
    "    progress_bar=True,\n",
    "    processes=8\n",
    ")"
   ]
  },
  {
   "cell_type": "code",
   "execution_count": 3,
   "id": "d5a40356-af51-434f-b16d-bf36c029a9e4",
   "metadata": {},
   "outputs": [],
   "source": [
    "processor.df = processor.df[['image_name', 'image_path', 'table_path', 'archive_path', 'data_format',\n",
    "       'caption', 'character', 'cartoon_name']]"
   ]
  },
  {
   "cell_type": "markdown",
   "id": "65ec7c37-4640-40e6-bb84-e1b199070b78",
   "metadata": {
    "tags": []
   },
   "source": [
    "### Validator"
   ]
  },
  {
   "cell_type": "markdown",
   "id": "3d11a6a7-c6e6-427d-8423-263a0430b8d9",
   "metadata": {},
   "source": [
    "_ShardsValidator_ - checks for errors in shards"
   ]
  },
  {
   "cell_type": "code",
   "execution_count": 28,
   "id": "e02577ef-c646-4ec7-812d-24934f68c45c",
   "metadata": {},
   "outputs": [
    {
     "data": {
      "application/vnd.jupyter.widget-view+json": {
       "model_id": "22ac342a153346119b9e47593a136406",
       "version_major": 2,
       "version_minor": 0
      },
      "text/plain": [
       "  0%|          | 0/1 [00:00<?, ?it/s]"
      ]
     },
     "metadata": {},
     "output_type": "display_data"
    }
   ],
   "source": [
    "# fs = S3FileSystem(\n",
    "#     key='your_access_key',\n",
    "#     secret='your_secret_key',\n",
    "#     endpoint_url='your_endpoint'\n",
    "# )\n",
    "\n",
    "fs = processor.get_filesystem()\n",
    "\n",
    "validator = ShardsValidator(\n",
    "    filesystem=fs,\n",
    "    csv_columns=[\n",
    "        'image_name', 'caption', 'width', 'height'\n",
    "    ]\n",
    ")\n",
    "res, err2count, all_ok = validator.validate(shards_path, processes=16)\n"
   ]
  },
  {
   "cell_type": "markdown",
   "id": "4b857a96-8a88-40f5-af6e-cb430ada256a",
   "metadata": {},
   "source": [
    "all_ok must be true. Otherwise, look at the errors in the 'res' and correct them"
   ]
  },
  {
   "cell_type": "code",
   "execution_count": 29,
   "id": "32dddc92-091d-4d32-99e5-51f3cdf81db9",
   "metadata": {},
   "outputs": [
    {
     "name": "stdout",
     "output_type": "stream",
     "text": [
      "True\n"
     ]
    }
   ],
   "source": [
    "print(all_ok)"
   ]
  },
  {
   "cell_type": "markdown",
   "id": "e891983e",
   "metadata": {
    "tags": []
   },
   "source": [
    "### Create and run filter"
   ]
  },
  {
   "cell_type": "markdown",
   "id": "fcc22ed1",
   "metadata": {},
   "source": [
    "_ImageInfoGatherer_ - filter to get information about images: width, height, channels and image correctness"
   ]
  },
  {
   "cell_type": "code",
   "execution_count": 5,
   "id": "5b66e667",
   "metadata": {},
   "outputs": [
    {
     "name": "stderr",
     "output_type": "stream",
     "text": [
      "100%|██████████| 192/192 [00:12<00:00, 15.33it/s]\n"
     ]
    }
   ],
   "source": [
    "imgfilter = ImageInfoGatherer(\n",
    "    workers=16\n",
    ")\n",
    "processor.apply_filter(imgfilter)"
   ]
  },
  {
   "cell_type": "markdown",
   "id": "9a2e36c8",
   "metadata": {},
   "source": [
    "Filter adds new columns to a dataframe.\n",
    "You can get names of new columns by printing _imgfilter.schema_"
   ]
  },
  {
   "cell_type": "code",
   "execution_count": 6,
   "id": "a6291ec4",
   "metadata": {},
   "outputs": [
    {
     "data": {
      "text/plain": [
       "['image_path', 'is_correct', 'width', 'height', 'channels', 'error']"
      ]
     },
     "execution_count": 6,
     "metadata": {},
     "output_type": "execute_result"
    }
   ],
   "source": [
    "imgfilter.schema"
   ]
  },
  {
   "cell_type": "markdown",
   "id": "50c3f417",
   "metadata": {},
   "source": [
    "Let's check a dataframe"
   ]
  },
  {
   "cell_type": "code",
   "execution_count": 7,
   "id": "bd860562",
   "metadata": {},
   "outputs": [
    {
     "data": {
      "text/html": [
       "<div>\n",
       "<style scoped>\n",
       "    .dataframe tbody tr th:only-of-type {\n",
       "        vertical-align: middle;\n",
       "    }\n",
       "\n",
       "    .dataframe tbody tr th {\n",
       "        vertical-align: top;\n",
       "    }\n",
       "\n",
       "    .dataframe thead th {\n",
       "        text-align: right;\n",
       "    }\n",
       "</style>\n",
       "<table border=\"1\" class=\"dataframe\">\n",
       "  <thead>\n",
       "    <tr style=\"text-align: right;\">\n",
       "      <th></th>\n",
       "      <th>image_name</th>\n",
       "      <th>caption</th>\n",
       "      <th>is_correct</th>\n",
       "      <th>width</th>\n",
       "      <th>height</th>\n",
       "      <th>channels</th>\n",
       "      <th>error</th>\n",
       "    </tr>\n",
       "  </thead>\n",
       "  <tbody>\n",
       "    <tr>\n",
       "      <th>0</th>\n",
       "      <td>ProstokvashinoNew-01_Vozvraschenie-01_eee0013.png</td>\n",
       "      <td>Матроскин из мультфильма \"Простоквашино\"</td>\n",
       "      <td>True</td>\n",
       "      <td>1920</td>\n",
       "      <td>1080</td>\n",
       "      <td>3</td>\n",
       "      <td>None</td>\n",
       "    </tr>\n",
       "    <tr>\n",
       "      <th>1</th>\n",
       "      <td>ProstokvashinoNew-02_Vozvraschenie-02_eee0019.png</td>\n",
       "      <td>Матроскин из мультфильма \"Простоквашино\"</td>\n",
       "      <td>True</td>\n",
       "      <td>1920</td>\n",
       "      <td>1080</td>\n",
       "      <td>3</td>\n",
       "      <td>None</td>\n",
       "    </tr>\n",
       "    <tr>\n",
       "      <th>2</th>\n",
       "      <td>ProstokvashinoNew-04_DietaMatroskina_eee0004.png</td>\n",
       "      <td>Матроскин из мультфильма \"Простоквашино\"</td>\n",
       "      <td>True</td>\n",
       "      <td>1920</td>\n",
       "      <td>1080</td>\n",
       "      <td>3</td>\n",
       "      <td>None</td>\n",
       "    </tr>\n",
       "    <tr>\n",
       "      <th>3</th>\n",
       "      <td>ProstokvashinoNew-04_DietaMatroskina_eee0012.png</td>\n",
       "      <td>Матроскин из мультфильма \"Простоквашино\"</td>\n",
       "      <td>True</td>\n",
       "      <td>1920</td>\n",
       "      <td>1080</td>\n",
       "      <td>3</td>\n",
       "      <td>None</td>\n",
       "    </tr>\n",
       "    <tr>\n",
       "      <th>4</th>\n",
       "      <td>ProstokvashinoNew-05_SHarikHochetTelefon_eee00...</td>\n",
       "      <td>Матроскин из мультфильма \"Простоквашино\"</td>\n",
       "      <td>True</td>\n",
       "      <td>1920</td>\n",
       "      <td>1080</td>\n",
       "      <td>3</td>\n",
       "      <td>None</td>\n",
       "    </tr>\n",
       "  </tbody>\n",
       "</table>\n",
       "</div>"
      ],
      "text/plain": [
       "                                          image_name  \\\n",
       "0  ProstokvashinoNew-01_Vozvraschenie-01_eee0013.png   \n",
       "1  ProstokvashinoNew-02_Vozvraschenie-02_eee0019.png   \n",
       "2   ProstokvashinoNew-04_DietaMatroskina_eee0004.png   \n",
       "3   ProstokvashinoNew-04_DietaMatroskina_eee0012.png   \n",
       "4  ProstokvashinoNew-05_SHarikHochetTelefon_eee00...   \n",
       "\n",
       "                                    caption  is_correct  width  height  \\\n",
       "0  Матроскин из мультфильма \"Простоквашино\"        True   1920    1080   \n",
       "1  Матроскин из мультфильма \"Простоквашино\"        True   1920    1080   \n",
       "2  Матроскин из мультфильма \"Простоквашино\"        True   1920    1080   \n",
       "3  Матроскин из мультфильма \"Простоквашино\"        True   1920    1080   \n",
       "4  Матроскин из мультфильма \"Простоквашино\"        True   1920    1080   \n",
       "\n",
       "   channels error  \n",
       "0         3  None  \n",
       "1         3  None  \n",
       "2         3  None  \n",
       "3         3  None  \n",
       "4         3  None  "
      ]
     },
     "execution_count": 7,
     "metadata": {},
     "output_type": "execute_result"
    }
   ],
   "source": [
    "processor.df.head()[['image_name', 'caption', 'is_correct', 'width', 'height', 'channels', 'error']]"
   ]
  },
  {
   "cell_type": "markdown",
   "id": "076b1653",
   "metadata": {
    "tags": []
   },
   "source": [
    "### Save new columns"
   ]
  },
  {
   "cell_type": "markdown",
   "id": "35bcff46",
   "metadata": {},
   "source": [
    "To save new columns, call _processor.update_data_"
   ]
  },
  {
   "cell_type": "code",
   "execution_count": 8,
   "id": "6d232930",
   "metadata": {},
   "outputs": [
    {
     "name": "stdout",
     "output_type": "stream",
     "text": [
      "Help on method update_data in module DPF.processors.text2image.t2i_processor:\n",
      "\n",
      "update_data(columns_to_add: List[str], overwrite_columns: bool = True, processes: int = 1, force: bool = False) -> List[str] method of DPF.processors.text2image.shards_processor.ShardsProcessor instance\n",
      "    Updates existing columns and adds new columns in dataframes of a dataset\n",
      "    \n",
      "    Parameters\n",
      "    ----------\n",
      "    columns_to_add: list[str]\n",
      "        List of column names to update or add\n",
      "    overwrite_columns: bool = True\n",
      "        Change (overwrite) or not existing columns\n",
      "    processes: int = 1\n",
      "        Number of parallel processes to read and update dataframes\n",
      "    force: bool = False\n",
      "        Force update if dataframe shape was changed\n",
      "        \n",
      "    Returns\n",
      "    -------\n",
      "    list[str]\n",
      "        List of occured errors\n",
      "\n"
     ]
    }
   ],
   "source": [
    "help(processor.update_data)"
   ]
  },
  {
   "cell_type": "code",
   "execution_count": 9,
   "id": "42246ec6",
   "metadata": {},
   "outputs": [
    {
     "data": {
      "application/vnd.jupyter.widget-view+json": {
       "model_id": "9d96d8894493479da72453fab9fa6451",
       "version_major": 2,
       "version_minor": 0
      },
      "text/plain": [
       "  0%|          | 0/1 [00:00<?, ?it/s]"
      ]
     },
     "metadata": {},
     "output_type": "display_data"
    },
    {
     "data": {
      "text/plain": [
       "[]"
      ]
     },
     "execution_count": 9,
     "metadata": {},
     "output_type": "execute_result"
    }
   ],
   "source": [
    "processor.update_data(\n",
    "    ['is_correct', 'width', 'height', 'channels', 'error'],\n",
    "    processes=8\n",
    ")"
   ]
  },
  {
   "cell_type": "markdown",
   "id": "95d44cfe-f714-40e2-8450-45d12e61aee1",
   "metadata": {
    "tags": []
   },
   "source": [
    "### CLIPFilter"
   ]
  },
  {
   "cell_type": "markdown",
   "id": "4a32dc98-58da-41bd-aa80-1f4f54ac585a",
   "metadata": {},
   "source": [
    "CLIP similarity between image and caption"
   ]
  },
  {
   "cell_type": "code",
   "execution_count": 10,
   "id": "67130c18-64d6-4a2c-ac80-e884237ea7a0",
   "metadata": {},
   "outputs": [
    {
     "name": "stderr",
     "output_type": "stream",
     "text": [
      "100%|██████████| 3/3 [00:27<00:00,  9.26s/it]\n"
     ]
    }
   ],
   "source": [
    "clip_filter = CLIPFilter(\n",
    "    clip_version='ViT-L/14', \n",
    "    templates=['{}'],\n",
    "    weights_folder='path_to_folder_with_weights',\n",
    "    workers=16, batch_size=64\n",
    ")\n",
    "\n",
    "processor.apply_filter(clip_filter)"
   ]
  },
  {
   "cell_type": "code",
   "execution_count": null,
   "id": "fc5a3c51-467f-4d3c-8574-3923346ef474",
   "metadata": {},
   "outputs": [
    {
     "data": {
      "application/vnd.jupyter.widget-view+json": {
       "model_id": "",
       "version_major": 2,
       "version_minor": 0
      },
      "text/plain": [
       "  0%|          | 0/1 [00:00<?, ?it/s]"
      ]
     },
     "metadata": {},
     "output_type": "display_data"
    },
    {
     "data": {
      "text/plain": [
       "[]"
      ]
     },
     "execution_count": 11,
     "metadata": {},
     "output_type": "execute_result"
    }
   ],
   "source": [
    "processor.update_data(\n",
    "\t\t['clip_ViT-L/14_similarity'],\n",
    "\t\tprocesses=16\n",
    ")"
   ]
  },
  {
   "cell_type": "markdown",
   "id": "483c497c-4709-45f6-9eb6-deb44283f646",
   "metadata": {},
   "source": [
    "ruCLIP similarity between image and caption"
   ]
  },
  {
   "cell_type": "code",
   "execution_count": 12,
   "id": "a0067528-5ce4-47b0-9729-874533562bec",
   "metadata": {},
   "outputs": [
    {
     "name": "stderr",
     "output_type": "stream",
     "text": [
      "100%|██████████| 3/3 [00:26<00:00,  8.69s/it]\n"
     ]
    }
   ],
   "source": [
    "ruclip_filter = RuCLIPFilter(\n",
    "    ruclip_version='ruclip-vit-large-patch14-336', \n",
    "    templates=['{}'],\n",
    "    weights_folder='path_to_folder_with_weights',\n",
    "    workers=8, batch_size=64,\n",
    "    device='cuda:0'\n",
    ")\n",
    "\n",
    "processor.apply_filter(ruclip_filter)"
   ]
  },
  {
   "cell_type": "code",
   "execution_count": null,
   "id": "3ab820be-c61e-4bbe-ba7a-7aafe4fb22a8",
   "metadata": {},
   "outputs": [
    {
     "data": {
      "application/vnd.jupyter.widget-view+json": {
       "model_id": "",
       "version_major": 2,
       "version_minor": 0
      },
      "text/plain": [
       "  0%|          | 0/1 [00:00<?, ?it/s]"
      ]
     },
     "metadata": {},
     "output_type": "display_data"
    },
    {
     "data": {
      "text/plain": [
       "[]"
      ]
     },
     "execution_count": 13,
     "metadata": {},
     "output_type": "execute_result"
    }
   ],
   "source": [
    "processor.update_data(\n",
    "\t\t['ruclip-vit-large-patch14-336_similarity'],\n",
    "\t\tprocesses=16\n",
    ")"
   ]
  },
  {
   "cell_type": "markdown",
   "id": "b58657f1-5991-4e5b-b57d-6e8bae4ef7d7",
   "metadata": {
    "tags": []
   },
   "source": [
    "### WatermarksFilter with CLIPLabelsFilter"
   ]
  },
  {
   "cell_type": "markdown",
   "id": "a5e27c67-91d9-4438-b8e5-fb0a30a5cc9e",
   "metadata": {},
   "source": [
    "_WatermarksFilter_ - watermarks detection"
   ]
  },
  {
   "cell_type": "code",
   "execution_count": 14,
   "id": "25598762-cb71-4e8e-aa09-e7ee18308eb6",
   "metadata": {},
   "outputs": [
    {
     "name": "stderr",
     "output_type": "stream",
     "text": [
      "100%|██████████| 1/1 [00:21<00:00, 21.15s/it]\n"
     ]
    }
   ],
   "source": [
    "watermarks_filter_small = WatermarksFilter(\n",
    "    'resnext50_32x4d-small',\n",
    "    weights_folder='path_to_folder_with_weights',\n",
    "    workers=8, batch_size=256,\n",
    "    device='cuda:0'\n",
    ")\n",
    "\n",
    "watermarks_filter_large = WatermarksFilter(\n",
    "    'resnext101_32x8d-large',\n",
    "    weights_folder='path_to_folder_with_weights',\n",
    "    workers=8, batch_size=256,\n",
    "    device='cuda:0'\n",
    ")\n",
    "\n",
    "cfilter = ComplexFilter(\n",
    "\t\t[watermarks_filter_small, watermarks_filter_large], \n",
    "\t\tuse_same_preprocess=True, workers=16\n",
    ")\n",
    "processor.apply_filter(cfilter)\n",
    "\n"
   ]
  },
  {
   "cell_type": "code",
   "execution_count": null,
   "id": "0436d80c-eba1-42dc-a5bd-bd3542c3ae2b",
   "metadata": {},
   "outputs": [
    {
     "data": {
      "application/vnd.jupyter.widget-view+json": {
       "model_id": "",
       "version_major": 2,
       "version_minor": 0
      },
      "text/plain": [
       "  0%|          | 0/1 [00:00<?, ?it/s]"
      ]
     },
     "metadata": {},
     "output_type": "display_data"
    },
    {
     "data": {
      "text/plain": [
       "[]"
      ]
     },
     "execution_count": 15,
     "metadata": {},
     "output_type": "execute_result"
    }
   ],
   "source": [
    "processor.update_data(\n",
    "\t\t['watermark_resnext50_32x4d-small', 'watermark_resnext101_32x8d-large'],\n",
    "\t\tprocesses=16\n",
    ")"
   ]
  },
  {
   "cell_type": "markdown",
   "id": "0f387131-3307-4628-a903-cde5e8014310",
   "metadata": {},
   "source": [
    "Labeling with CLIP"
   ]
  },
  {
   "cell_type": "code",
   "execution_count": 16,
   "id": "f0798106-9bc6-4675-a024-1dca697e8124",
   "metadata": {},
   "outputs": [
    {
     "name": "stdout",
     "output_type": "stream",
     "text": [
      "['image_path', 'ViT-L/14 clip score \"picture has watermark\"', 'ViT-L/14 clip score \"slide of presentation with text\"', 'ViT-L/14 clip score \"document with text\"', 'ViT-L/14 clip score \"web site with text\"']\n"
     ]
    },
    {
     "name": "stderr",
     "output_type": "stream",
     "text": [
      "100%|██████████| 1/1 [00:30<00:00, 31.00s/it]\n"
     ]
    }
   ],
   "source": [
    "labels_for_clip = [\n",
    "    \"picture has watermark\",\n",
    "    \"slide of presentation with text\",\n",
    "    \"document with text\",\n",
    "    \"web site with text\"\n",
    "]\n",
    "\n",
    "clip_filter = CLIPLabelsFilter(\n",
    "    clip_model='ViT-L/14',\n",
    "    templates=['{}'],\n",
    "    weights_folder='path_to_folder_with_weights',\n",
    "    labels=labels_for_clip,\n",
    "    workers=16, batch_size=512,\n",
    "    device='cuda:0'\n",
    ")\n",
    "\n",
    "print(clip_filter.schema)\n",
    "\n",
    "processor.apply_filter(clip_filter)"
   ]
  },
  {
   "cell_type": "code",
   "execution_count": 17,
   "id": "c1e2b508-2445-4a5f-99da-2a8ee4ae2fa5",
   "metadata": {},
   "outputs": [
    {
     "data": {
      "application/vnd.jupyter.widget-view+json": {
       "model_id": "9959ceefabce42e89558837459cf0432",
       "version_major": 2,
       "version_minor": 0
      },
      "text/plain": [
       "  0%|          | 0/1 [00:00<?, ?it/s]"
      ]
     },
     "metadata": {},
     "output_type": "display_data"
    },
    {
     "data": {
      "text/plain": [
       "[]"
      ]
     },
     "execution_count": 17,
     "metadata": {},
     "output_type": "execute_result"
    }
   ],
   "source": [
    "\n",
    "processor.update_data(\n",
    "\t\t['ViT-L/14 clip score \"picture has watermark\"',\n",
    "\t\t'ViT-L/14 clip score \"slide of presentation with text\"',\n",
    "\t\t'ViT-L/14 clip score \"document with text\"',\n",
    "\t\t'ViT-L/14 clip score \"web site with text\"'],\n",
    "\t\tprocesses=16\n",
    ")"
   ]
  },
  {
   "cell_type": "markdown",
   "id": "9d724ebc-fc78-45c0-9d6b-56ecc99b548e",
   "metadata": {},
   "source": [
    "Combine WatermarksFilter and CLIPLabelsFilter"
   ]
  },
  {
   "cell_type": "code",
   "execution_count": 18,
   "id": "1470a951-e8b3-4811-b36d-0d091954b39a",
   "metadata": {},
   "outputs": [],
   "source": [
    "df = processor.df\n",
    "\n",
    "min_clip_score = 0.14\n",
    "max_clip_score = 0.2\n",
    "clip_score_diff = max_clip_score-min_clip_score\n",
    "\n",
    "clip_prob_watermark = (\n",
    "    (df['ViT-L/14 clip score \"picture has watermark\"']-min_clip_score)/clip_score_diff \n",
    ")\n",
    "\n",
    "df['watermark_prob'] = df['watermark_resnext50_32x4d-small']*0.3\\\n",
    "                       + df['watermark_resnext101_32x8d-large']*0.4\\\n",
    "                       + clip_prob_watermark*0.3\n",
    "\n",
    "df.loc[df['watermark_prob']<0, 'watermark_prob'] = 0\n",
    "df.loc[df['watermark_prob']>1, 'watermark_prob'] = 1\n",
    "\n",
    "max_text_score = df[\n",
    "    ['ViT-L/14 clip score \"slide of presentation with text\"',\n",
    "     'ViT-L/14 clip score \"document with text\"', \n",
    "     'ViT-L/14 clip score \"web site with text\"']\n",
    "].max(axis=1)\n",
    "\n",
    "clip_prob_text = (max_text_score-min_clip_score)/clip_score_diff\n",
    "clip_prob_text[clip_prob_text<0] = 0\n",
    "clip_prob_text[clip_prob_text>1] = 1\n",
    "\n",
    "df['webdocument_prob'] = clip_prob_text"
   ]
  },
  {
   "cell_type": "code",
   "execution_count": 19,
   "id": "2ca4ad12-982c-4512-9220-256d7f04ac63",
   "metadata": {},
   "outputs": [
    {
     "data": {
      "application/vnd.jupyter.widget-view+json": {
       "model_id": "1b4432bebcba409d9f7eef03678b472a",
       "version_major": 2,
       "version_minor": 0
      },
      "text/plain": [
       "  0%|          | 0/1 [00:00<?, ?it/s]"
      ]
     },
     "metadata": {},
     "output_type": "display_data"
    },
    {
     "data": {
      "text/plain": [
       "[]"
      ]
     },
     "execution_count": 19,
     "metadata": {},
     "output_type": "execute_result"
    }
   ],
   "source": [
    "processor.update_data(\n",
    "\t\t['watermark_prob',\n",
    "       'webdocument_prob' \n",
    "        ],\n",
    "\t\tprocesses=16\n",
    ")"
   ]
  },
  {
   "cell_type": "markdown",
   "id": "62b2381a-9f5c-4488-ab23-e311a3d9251a",
   "metadata": {
    "tags": []
   },
   "source": [
    "### Duplicate"
   ]
  },
  {
   "cell_type": "markdown",
   "id": "6728e7d5-6d66-40e0-b355-50214a40207f",
   "metadata": {},
   "source": [
    "_PHashFilter_ - filter to get information about images: phash. "
   ]
  },
  {
   "cell_type": "code",
   "execution_count": 20,
   "id": "21771b3d-4319-442d-beef-5b1342166430",
   "metadata": {},
   "outputs": [
    {
     "name": "stderr",
     "output_type": "stream",
     "text": [
      "100%|██████████| 192/192 [00:27<00:00,  6.94it/s]\n"
     ]
    }
   ],
   "source": [
    "phash_filter = PHashFilter(sim_hash_size=8, workers=16)\n",
    "processor.apply_filter(phash_filter)\n",
    "\n",
    "df = processor.df"
   ]
  },
  {
   "cell_type": "markdown",
   "id": "8879a4cf-d51f-44c9-8fab-34bc87044811",
   "metadata": {},
   "source": [
    "duplicated"
   ]
  },
  {
   "cell_type": "code",
   "execution_count": 21,
   "id": "c3c242d4-732f-48bf-b573-c196d49eee04",
   "metadata": {},
   "outputs": [],
   "source": [
    "df['is_duplicate'] = False\n",
    "df.loc[df['image_phash_8'].duplicated(), 'is_duplicate'] = True"
   ]
  },
  {
   "cell_type": "code",
   "execution_count": 22,
   "id": "afee5bfc-8fb5-441e-a285-27db62245a08",
   "metadata": {},
   "outputs": [
    {
     "data": {
      "application/vnd.jupyter.widget-view+json": {
       "model_id": "e835690e92d541e396e92103600c6cfe",
       "version_major": 2,
       "version_minor": 0
      },
      "text/plain": [
       "  0%|          | 0/1 [00:00<?, ?it/s]"
      ]
     },
     "metadata": {},
     "output_type": "display_data"
    },
    {
     "data": {
      "text/plain": [
       "[]"
      ]
     },
     "execution_count": 22,
     "metadata": {},
     "output_type": "execute_result"
    }
   ],
   "source": [
    "processor.update_data(\n",
    "\t\t['image_phash_8', 'is_duplicate'],\n",
    "\t\tprocesses=16\n",
    ")"
   ]
  },
  {
   "cell_type": "markdown",
   "id": "c6ad2eae-e5f4-431d-a81f-86b59a6ff35b",
   "metadata": {
    "tags": []
   },
   "source": [
    "### TextFilter"
   ]
  },
  {
   "cell_type": "markdown",
   "id": "9dcc2602-068d-4a7a-ac52-6bbe3e56159c",
   "metadata": {},
   "source": [
    "_LangFilter_ - filter to get information about caption: lang and lang score "
   ]
  },
  {
   "cell_type": "code",
   "execution_count": 23,
   "id": "d285c59b-053c-4d6b-b16f-358db3a4bcfd",
   "metadata": {},
   "outputs": [
    {
     "name": "stdout",
     "output_type": "stream",
     "text": [
      "INFO: Pandarallel will run on 16 workers.\n",
      "INFO: Pandarallel will use Memory file system to transfer data between the main process and workers.\n"
     ]
    }
   ],
   "source": [
    "lang_filter = LangFilter(\n",
    "    text_column_name='caption',\n",
    "    workers=16\n",
    ")\n",
    "\n",
    "processor.apply_filter(lang_filter)"
   ]
  },
  {
   "cell_type": "code",
   "execution_count": 24,
   "id": "68a925af-fb6d-46d4-bedc-bff92122371c",
   "metadata": {},
   "outputs": [
    {
     "data": {
      "application/vnd.jupyter.widget-view+json": {
       "model_id": "8a0c7d4ad44146608b34452471cb97f8",
       "version_major": 2,
       "version_minor": 0
      },
      "text/plain": [
       "  0%|          | 0/1 [00:00<?, ?it/s]"
      ]
     },
     "metadata": {},
     "output_type": "display_data"
    },
    {
     "data": {
      "text/plain": [
       "[]"
      ]
     },
     "execution_count": 24,
     "metadata": {},
     "output_type": "execute_result"
    }
   ],
   "source": [
    "# запись результатов в csv\n",
    "processor.update_data(\n",
    "    ['lang', 'lang_score'],\n",
    "    processes=16\n",
    ")"
   ]
  },
  {
   "cell_type": "markdown",
   "id": "8748aaa3-e948-43fe-9834-caabe6c0fdbf",
   "metadata": {},
   "source": [
    "_RegexFilter_ - filter that cleans the text from unnecessary words, using regular expressions"
   ]
  },
  {
   "cell_type": "code",
   "execution_count": 25,
   "id": "8a739df9-b2d6-4deb-8b6b-32d4ed39885c",
   "metadata": {},
   "outputs": [
    {
     "name": "stdout",
     "output_type": "stream",
     "text": [
      "INFO: Pandarallel will run on 16 workers.\n",
      "INFO: Pandarallel will use Memory file system to transfer data between the main process and workers.\n"
     ]
    }
   ],
   "source": [
    "regex_filter = RegexFilter(\n",
    "    text_column_name='caption',\n",
    "    regex_replacement_list=ru_regexs+special_regexs+emoji_regexs\n",
    ")\n",
    "\n",
    "processor.apply_filter(regex_filter)"
   ]
  },
  {
   "cell_type": "code",
   "execution_count": 26,
   "id": "dbb99494-737c-431f-b142-39ebaca72d67",
   "metadata": {},
   "outputs": [
    {
     "data": {
      "application/vnd.jupyter.widget-view+json": {
       "model_id": "a75bab7b232241b58eacfb71b592689e",
       "version_major": 2,
       "version_minor": 0
      },
      "text/plain": [
       "  0%|          | 0/1 [00:00<?, ?it/s]"
      ]
     },
     "metadata": {},
     "output_type": "display_data"
    },
    {
     "data": {
      "text/plain": [
       "[]"
      ]
     },
     "execution_count": 26,
     "metadata": {},
     "output_type": "execute_result"
    }
   ],
   "source": [
    "processor.update_data(\n",
    "\t\t['clean_caption'],\n",
    "\t\tprocesses=16\n",
    ")"
   ]
  }
 ],
 "metadata": {
  "kernelspec": {
   "display_name": "Python 3 (ipykernel)",
   "language": "python",
   "name": "python3"
  },
  "language_info": {
   "codemirror_mode": {
    "name": "ipython",
    "version": 3
   },
   "file_extension": ".py",
   "mimetype": "text/x-python",
   "name": "python",
   "nbconvert_exporter": "python",
   "pygments_lexer": "ipython3",
   "version": "3.7.12"
  }
 },
 "nbformat": 4,
 "nbformat_minor": 5
}
